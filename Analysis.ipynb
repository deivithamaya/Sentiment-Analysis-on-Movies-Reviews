{
  "cells": [
    {
      "cell_type": "markdown",
      "metadata": {
        "id": "0oiYxBSs_0KH"
      },
      "source": [
        "---\n",
        "## 1. Get the data\n",
        "\n",
        "**Download the data by executing the code below:**\n",
        "\n",
        "`Notes:` Use the target column as `positive`, that way the positive value will be indicated with a value of `1` and negative with a value of `0`. In this case, a split train/test is not necessary because the original data is already separated."
      ]
    },
    {
      "cell_type": "markdown",
      "metadata": {
        "id": "wycYqOwt_0KE"
      },
      "source": [
        "# Sentiment Analysis: Large Movie Review Dataset\n",
        "\n",
        "Hi again! You will be expected to finish this on your own, but you can use the available channels on Discord to ask questions and help others. Please read the entire notebook before starting, this will give you a better idea of what you need to accomplish.\n",
        "\n",
        "This project is related to NLP. As you may already know, the most important and hardest part of an NLP project is pre-processing, which is why we are going to focus on that.\n",
        "\n",
        "### Getting the data\n",
        "\n",
        "To access the data for this project, you only need to execute the code below. This will download three files:\n",
        "\n",
        "- `movies_review_train_aai.csv`: Training dataset you must use to train and find the best hyperparameters on your model.\n",
        "\n",
        "- `movies_review_test_aai.csv`: Test dataset to test your model.\n",
        "\n",
        "Basically a basic sentiment analysis problem, as in this case, consists of a classification problem, where the possible output labels are: `positive` and `negative`. Which indicates, if the review of a movie speaks positively or negatively. In our case it is a binary problem, but one could have many more \"feelings\" tagged and thus allow a more granular analysis.\n",
        "\n",
        "### These are the objectives of the project:\n",
        "\n",
        "* Read data that is not in a traditional format.\n",
        "* Put together a set of preprocessing functions that we can use later on any NLP or related problems.\n",
        "* Vectorize the data in order to apply a machine learning model to it: using BoW or TF-IDF.\n",
        "* BoW and TF-IDF are classic ways to vectorize text, but currently we have some more complex ways with better performance, for this we are going to train our own word embedding and use it as a vectorization source for our data.\n",
        "* Train a sentiment analysis model that allows us to detect positive and negative opinions in movie reviews."
      ]
    },
    {
      "cell_type": "code",
      "source": [
        "from google.colab import drive\n",
        "drive.mount('/content/drive')"
      ],
      "metadata": {
        "colab": {
          "base_uri": "https://localhost:8080/"
        },
        "id": "a8haHhnLvUL8",
        "outputId": "28cb6550-b42d-4887-bbf3-be0219a4dd55"
      },
      "execution_count": 1,
      "outputs": [
        {
          "output_type": "stream",
          "name": "stdout",
          "text": [
            "Mounted at /content/drive\n"
          ]
        }
      ]
    },
    {
      "cell_type": "code",
      "source": [
        "import sys\n",
        "\n",
        "IN_COLAB = \"google.colab\" in sys.modules\n",
        "IN_COLAB\n",
        "\n",
        "if IN_COLAB:\n",
        "\n",
        "    ROOT_DIR = \"/content/drive/MyDrive/sprint5\"\n",
        "    %cd $ROOT_DIR"
      ],
      "metadata": {
        "colab": {
          "base_uri": "https://localhost:8080/"
        },
        "id": "KGpIajXdvuFX",
        "outputId": "b1582eea-b965-4916-d64b-5327dae7dd12"
      },
      "execution_count": 2,
      "outputs": [
        {
          "output_type": "stream",
          "name": "stdout",
          "text": [
            "/content/drive/MyDrive/sprint5\n"
          ]
        }
      ]
    },
    {
      "cell_type": "code",
      "source": [
        "!pip install -r re.txt"
      ],
      "metadata": {
        "colab": {
          "base_uri": "https://localhost:8080/"
        },
        "id": "gVyTh3Xgv-nz",
        "outputId": "ef42e71c-d178-48b6-8689-5f58c92f8415"
      },
      "execution_count": 3,
      "outputs": [
        {
          "output_type": "stream",
          "name": "stdout",
          "text": [
            "Collecting alembic==1.13.1 (from -r re.txt (line 1))\n",
            "  Downloading alembic-1.13.1-py3-none-any.whl (233 kB)\n",
            "\u001b[2K     \u001b[90m━━━━━━━━━━━━━━━━━━━━━━━━━━━━━━━━━━━━━━━━\u001b[0m \u001b[32m233.4/233.4 kB\u001b[0m \u001b[31m6.1 MB/s\u001b[0m eta \u001b[36m0:00:00\u001b[0m\n",
            "\u001b[?25hCollecting aniso8601==9.0.1 (from -r re.txt (line 2))\n",
            "  Downloading aniso8601-9.0.1-py2.py3-none-any.whl (52 kB)\n",
            "\u001b[2K     \u001b[90m━━━━━━━━━━━━━━━━━━━━━━━━━━━━━━━━━━━━━━━━\u001b[0m \u001b[32m52.8/52.8 kB\u001b[0m \u001b[31m7.1 MB/s\u001b[0m eta \u001b[36m0:00:00\u001b[0m\n",
            "\u001b[?25hCollecting anyio==4.4.0 (from -r re.txt (line 3))\n",
            "  Downloading anyio-4.4.0-py3-none-any.whl (86 kB)\n",
            "\u001b[2K     \u001b[90m━━━━━━━━━━━━━━━━━━━━━━━━━━━━━━━━━━━━━━━━\u001b[0m \u001b[32m86.8/86.8 kB\u001b[0m \u001b[31m7.0 MB/s\u001b[0m eta \u001b[36m0:00:00\u001b[0m\n",
            "\u001b[?25hRequirement already satisfied: argon2-cffi==23.1.0 in /usr/local/lib/python3.10/dist-packages (from -r re.txt (line 4)) (23.1.0)\n",
            "Requirement already satisfied: argon2-cffi-bindings==21.2.0 in /usr/local/lib/python3.10/dist-packages (from -r re.txt (line 5)) (21.2.0)\n",
            "Collecting arrow==1.3.0 (from -r re.txt (line 6))\n",
            "  Downloading arrow-1.3.0-py3-none-any.whl (66 kB)\n",
            "\u001b[2K     \u001b[90m━━━━━━━━━━━━━━━━━━━━━━━━━━━━━━━━━━━━━━━━\u001b[0m \u001b[32m66.4/66.4 kB\u001b[0m \u001b[31m6.7 MB/s\u001b[0m eta \u001b[36m0:00:00\u001b[0m\n",
            "\u001b[?25hCollecting asttokens==2.4.1 (from -r re.txt (line 7))\n",
            "  Downloading asttokens-2.4.1-py2.py3-none-any.whl (27 kB)\n",
            "Collecting async-lru==2.0.4 (from -r re.txt (line 8))\n",
            "  Downloading async_lru-2.0.4-py3-none-any.whl (6.1 kB)\n",
            "Requirement already satisfied: attrs==23.2.0 in /usr/local/lib/python3.10/dist-packages (from -r re.txt (line 9)) (23.2.0)\n",
            "Requirement already satisfied: Babel==2.15.0 in /usr/local/lib/python3.10/dist-packages (from -r re.txt (line 10)) (2.15.0)\n",
            "Collecting beautifulsoup4==4.12.2 (from -r re.txt (line 11))\n",
            "  Downloading beautifulsoup4-4.12.2-py3-none-any.whl (142 kB)\n",
            "\u001b[2K     \u001b[90m━━━━━━━━━━━━━━━━━━━━━━━━━━━━━━━━━━━━━━━━\u001b[0m \u001b[32m143.0/143.0 kB\u001b[0m \u001b[31m7.6 MB/s\u001b[0m eta \u001b[36m0:00:00\u001b[0m\n",
            "\u001b[?25hCollecting black==23.3.0 (from -r re.txt (line 12))\n",
            "  Downloading black-23.3.0-cp310-cp310-manylinux_2_17_x86_64.manylinux2014_x86_64.whl (1.7 MB)\n",
            "\u001b[2K     \u001b[90m━━━━━━━━━━━━━━━━━━━━━━━━━━━━━━━━━━━━━━━━\u001b[0m \u001b[32m1.7/1.7 MB\u001b[0m \u001b[31m17.7 MB/s\u001b[0m eta \u001b[36m0:00:00\u001b[0m\n",
            "\u001b[?25hRequirement already satisfied: bleach==6.1.0 in /usr/local/lib/python3.10/dist-packages (from -r re.txt (line 13)) (6.1.0)\n",
            "Collecting blinker==1.8.2 (from -r re.txt (line 14))\n",
            "  Downloading blinker-1.8.2-py3-none-any.whl (9.5 kB)\n",
            "Requirement already satisfied: blis==0.7.11 in /usr/local/lib/python3.10/dist-packages (from -r re.txt (line 15)) (0.7.11)\n",
            "Requirement already satisfied: cachetools==5.3.3 in /usr/local/lib/python3.10/dist-packages (from -r re.txt (line 16)) (5.3.3)\n",
            "Requirement already satisfied: catalogue==2.0.10 in /usr/local/lib/python3.10/dist-packages (from -r re.txt (line 17)) (2.0.10)\n",
            "Requirement already satisfied: certifi==2024.6.2 in /usr/local/lib/python3.10/dist-packages (from -r re.txt (line 18)) (2024.6.2)\n",
            "Requirement already satisfied: cffi==1.16.0 in /usr/local/lib/python3.10/dist-packages (from -r re.txt (line 19)) (1.16.0)\n",
            "Requirement already satisfied: charset-normalizer==3.3.2 in /usr/local/lib/python3.10/dist-packages (from -r re.txt (line 20)) (3.3.2)\n",
            "Requirement already satisfied: click==8.1.7 in /usr/local/lib/python3.10/dist-packages (from -r re.txt (line 21)) (8.1.7)\n",
            "Collecting cloudpickle==3.0.0 (from -r re.txt (line 22))\n",
            "  Downloading cloudpickle-3.0.0-py3-none-any.whl (20 kB)\n",
            "Collecting comm==0.2.2 (from -r re.txt (line 23))\n",
            "  Downloading comm-0.2.2-py3-none-any.whl (7.2 kB)\n",
            "Requirement already satisfied: confection==0.1.5 in /usr/local/lib/python3.10/dist-packages (from -r re.txt (line 24)) (0.1.5)\n",
            "Requirement already satisfied: contourpy==1.2.1 in /usr/local/lib/python3.10/dist-packages (from -r re.txt (line 25)) (1.2.1)\n",
            "Requirement already satisfied: cycler==0.12.1 in /usr/local/lib/python3.10/dist-packages (from -r re.txt (line 26)) (0.12.1)\n",
            "Requirement already satisfied: cymem==2.0.8 in /usr/local/lib/python3.10/dist-packages (from -r re.txt (line 27)) (2.0.8)\n",
            "Collecting debugpy==1.8.1 (from -r re.txt (line 28))\n",
            "  Downloading debugpy-1.8.1-cp310-cp310-manylinux_2_17_x86_64.manylinux2014_x86_64.whl (3.0 MB)\n",
            "\u001b[2K     \u001b[90m━━━━━━━━━━━━━━━━━━━━━━━━━━━━━━━━━━━━━━━━\u001b[0m \u001b[32m3.0/3.0 MB\u001b[0m \u001b[31m35.1 MB/s\u001b[0m eta \u001b[36m0:00:00\u001b[0m\n",
            "\u001b[?25hCollecting decorator==5.1.1 (from -r re.txt (line 29))\n",
            "  Downloading decorator-5.1.1-py3-none-any.whl (9.1 kB)\n",
            "Requirement already satisfied: defusedxml==0.7.1 in /usr/local/lib/python3.10/dist-packages (from -r re.txt (line 30)) (0.7.1)\n",
            "Collecting Deprecated==1.2.14 (from -r re.txt (line 31))\n",
            "  Downloading Deprecated-1.2.14-py2.py3-none-any.whl (9.6 kB)\n",
            "Collecting docker==7.1.0 (from -r re.txt (line 32))\n",
            "  Downloading docker-7.1.0-py3-none-any.whl (147 kB)\n",
            "\u001b[2K     \u001b[90m━━━━━━━━━━━━━━━━━━━━━━━━━━━━━━━━━━━━━━━━\u001b[0m \u001b[32m147.8/147.8 kB\u001b[0m \u001b[31m15.2 MB/s\u001b[0m eta \u001b[36m0:00:00\u001b[0m\n",
            "\u001b[?25hRequirement already satisfied: entrypoints==0.4 in /usr/local/lib/python3.10/dist-packages (from -r re.txt (line 33)) (0.4)\n",
            "Requirement already satisfied: exceptiongroup==1.2.1 in /usr/local/lib/python3.10/dist-packages (from -r re.txt (line 34)) (1.2.1)\n",
            "Collecting executing==2.0.1 (from -r re.txt (line 35))\n",
            "  Downloading executing-2.0.1-py2.py3-none-any.whl (24 kB)\n",
            "Requirement already satisfied: fastjsonschema==2.20.0 in /usr/local/lib/python3.10/dist-packages (from -r re.txt (line 36)) (2.20.0)\n",
            "Requirement already satisfied: filelock==3.15.4 in /usr/local/lib/python3.10/dist-packages (from -r re.txt (line 37)) (3.15.4)\n",
            "Collecting flake8==6.0.0 (from -r re.txt (line 38))\n",
            "  Downloading flake8-6.0.0-py2.py3-none-any.whl (57 kB)\n",
            "\u001b[2K     \u001b[90m━━━━━━━━━━━━━━━━━━━━━━━━━━━━━━━━━━━━━━━━\u001b[0m \u001b[32m57.8/57.8 kB\u001b[0m \u001b[31m6.5 MB/s\u001b[0m eta \u001b[36m0:00:00\u001b[0m\n",
            "\u001b[?25hCollecting Flask==3.0.3 (from -r re.txt (line 39))\n",
            "  Downloading flask-3.0.3-py3-none-any.whl (101 kB)\n",
            "\u001b[2K     \u001b[90m━━━━━━━━━━━━━━━━━━━━━━━━━━━━━━━━━━━━━━━━\u001b[0m \u001b[32m101.7/101.7 kB\u001b[0m \u001b[31m11.6 MB/s\u001b[0m eta \u001b[36m0:00:00\u001b[0m\n",
            "\u001b[?25hRequirement already satisfied: fonttools==4.53.0 in /usr/local/lib/python3.10/dist-packages (from -r re.txt (line 40)) (4.53.0)\n",
            "Collecting fqdn==1.5.1 (from -r re.txt (line 41))\n",
            "  Downloading fqdn-1.5.1-py3-none-any.whl (9.1 kB)\n",
            "Collecting gdown==4.6.0 (from -r re.txt (line 42))\n",
            "  Downloading gdown-4.6.0-py3-none-any.whl (14 kB)\n",
            "Requirement already satisfied: gensim==4.3.2 in /usr/local/lib/python3.10/dist-packages (from -r re.txt (line 43)) (4.3.2)\n",
            "Collecting gitdb==4.0.11 (from -r re.txt (line 44))\n",
            "  Downloading gitdb-4.0.11-py3-none-any.whl (62 kB)\n",
            "\u001b[2K     \u001b[90m━━━━━━━━━━━━━━━━━━━━━━━━━━━━━━━━━━━━━━━━\u001b[0m \u001b[32m62.7/62.7 kB\u001b[0m \u001b[31m7.5 MB/s\u001b[0m eta \u001b[36m0:00:00\u001b[0m\n",
            "\u001b[?25hCollecting GitPython==3.1.43 (from -r re.txt (line 45))\n",
            "  Downloading GitPython-3.1.43-py3-none-any.whl (207 kB)\n",
            "\u001b[2K     \u001b[90m━━━━━━━━━━━━━━━━━━━━━━━━━━━━━━━━━━━━━━━━\u001b[0m \u001b[32m207.3/207.3 kB\u001b[0m \u001b[31m23.4 MB/s\u001b[0m eta \u001b[36m0:00:00\u001b[0m\n",
            "\u001b[?25hCollecting graphene==3.3 (from -r re.txt (line 46))\n",
            "  Downloading graphene-3.3-py2.py3-none-any.whl (128 kB)\n",
            "\u001b[2K     \u001b[90m━━━━━━━━━━━━━━━━━━━━━━━━━━━━━━━━━━━━━━━━\u001b[0m \u001b[32m128.2/128.2 kB\u001b[0m \u001b[31m13.2 MB/s\u001b[0m eta \u001b[36m0:00:00\u001b[0m\n",
            "\u001b[?25hCollecting graphql-core==3.2.3 (from -r re.txt (line 47))\n",
            "  Downloading graphql_core-3.2.3-py3-none-any.whl (202 kB)\n",
            "\u001b[2K     \u001b[90m━━━━━━━━━━━━━━━━━━━━━━━━━━━━━━━━━━━━━━━━\u001b[0m \u001b[32m202.9/202.9 kB\u001b[0m \u001b[31m22.6 MB/s\u001b[0m eta \u001b[36m0:00:00\u001b[0m\n",
            "\u001b[?25hCollecting graphql-relay==3.2.0 (from -r re.txt (line 48))\n",
            "  Downloading graphql_relay-3.2.0-py3-none-any.whl (16 kB)\n",
            "Requirement already satisfied: greenlet==3.0.3 in /usr/local/lib/python3.10/dist-packages (from -r re.txt (line 49)) (3.0.3)\n",
            "Collecting gunicorn==22.0.0 (from -r re.txt (line 50))\n",
            "  Downloading gunicorn-22.0.0-py3-none-any.whl (84 kB)\n",
            "\u001b[2K     \u001b[90m━━━━━━━━━━━━━━━━━━━━━━━━━━━━━━━━━━━━━━━━\u001b[0m \u001b[32m84.4/84.4 kB\u001b[0m \u001b[31m10.5 MB/s\u001b[0m eta \u001b[36m0:00:00\u001b[0m\n",
            "\u001b[?25hCollecting h11==0.14.0 (from -r re.txt (line 51))\n",
            "  Downloading h11-0.14.0-py3-none-any.whl (58 kB)\n",
            "\u001b[2K     \u001b[90m━━━━━━━━━━━━━━━━━━━━━━━━━━━━━━━━━━━━━━━━\u001b[0m \u001b[32m58.3/58.3 kB\u001b[0m \u001b[31m6.3 MB/s\u001b[0m eta \u001b[36m0:00:00\u001b[0m\n",
            "\u001b[?25hCollecting httpcore==1.0.5 (from -r re.txt (line 52))\n",
            "  Downloading httpcore-1.0.5-py3-none-any.whl (77 kB)\n",
            "\u001b[2K     \u001b[90m━━━━━━━━━━━━━━━━━━━━━━━━━━━━━━━━━━━━━━━━\u001b[0m \u001b[32m77.9/77.9 kB\u001b[0m \u001b[31m8.2 MB/s\u001b[0m eta \u001b[36m0:00:00\u001b[0m\n",
            "\u001b[?25hCollecting httpx==0.27.0 (from -r re.txt (line 53))\n",
            "  Downloading httpx-0.27.0-py3-none-any.whl (75 kB)\n",
            "\u001b[2K     \u001b[90m━━━━━━━━━━━━━━━━━━━━━━━━━━━━━━━━━━━━━━━━\u001b[0m \u001b[32m75.6/75.6 kB\u001b[0m \u001b[31m8.4 MB/s\u001b[0m eta \u001b[36m0:00:00\u001b[0m\n",
            "\u001b[?25hRequirement already satisfied: idna==3.7 in /usr/local/lib/python3.10/dist-packages (from -r re.txt (line 54)) (3.7)\n",
            "Collecting importlib_metadata==7.1.0 (from -r re.txt (line 55))\n",
            "  Downloading importlib_metadata-7.1.0-py3-none-any.whl (24 kB)\n",
            "Requirement already satisfied: iniconfig==2.0.0 in /usr/local/lib/python3.10/dist-packages (from -r re.txt (line 56)) (2.0.0)\n",
            "Collecting ipykernel==6.29.4 (from -r re.txt (line 57))\n",
            "  Downloading ipykernel-6.29.4-py3-none-any.whl (117 kB)\n",
            "\u001b[2K     \u001b[90m━━━━━━━━━━━━━━━━━━━━━━━━━━━━━━━━━━━━━━━━\u001b[0m \u001b[32m117.1/117.1 kB\u001b[0m \u001b[31m12.6 MB/s\u001b[0m eta \u001b[36m0:00:00\u001b[0m\n",
            "\u001b[?25hCollecting ipython==8.25.0 (from -r re.txt (line 58))\n",
            "  Downloading ipython-8.25.0-py3-none-any.whl (817 kB)\n",
            "\u001b[2K     \u001b[90m━━━━━━━━━━━━━━━━━━━━━━━━━━━━━━━━━━━━━━━━\u001b[0m \u001b[32m817.3/817.3 kB\u001b[0m \u001b[31m41.5 MB/s\u001b[0m eta \u001b[36m0:00:00\u001b[0m\n",
            "\u001b[?25hCollecting isoduration==20.11.0 (from -r re.txt (line 59))\n",
            "  Downloading isoduration-20.11.0-py3-none-any.whl (11 kB)\n",
            "Collecting isort==5.12.0 (from -r re.txt (line 60))\n",
            "  Downloading isort-5.12.0-py3-none-any.whl (91 kB)\n",
            "\u001b[2K     \u001b[90m━━━━━━━━━━━━━━━━━━━━━━━━━━━━━━━━━━━━━━━━\u001b[0m \u001b[32m91.2/91.2 kB\u001b[0m \u001b[31m9.8 MB/s\u001b[0m eta \u001b[36m0:00:00\u001b[0m\n",
            "\u001b[?25hRequirement already satisfied: itsdangerous==2.2.0 in /usr/local/lib/python3.10/dist-packages (from -r re.txt (line 61)) (2.2.0)\n",
            "Collecting jedi==0.19.1 (from -r re.txt (line 62))\n",
            "  Downloading jedi-0.19.1-py2.py3-none-any.whl (1.6 MB)\n",
            "\u001b[2K     \u001b[90m━━━━━━━━━━━━━━━━━━━━━━━━━━━━━━━━━━━━━━━━\u001b[0m \u001b[32m1.6/1.6 MB\u001b[0m \u001b[31m49.0 MB/s\u001b[0m eta \u001b[36m0:00:00\u001b[0m\n",
            "\u001b[?25hRequirement already satisfied: Jinja2==3.1.4 in /usr/local/lib/python3.10/dist-packages (from -r re.txt (line 63)) (3.1.4)\n",
            "Requirement already satisfied: joblib==1.4.2 in /usr/local/lib/python3.10/dist-packages (from -r re.txt (line 64)) (1.4.2)\n",
            "Collecting json5==0.9.25 (from -r re.txt (line 65))\n",
            "  Downloading json5-0.9.25-py3-none-any.whl (30 kB)\n",
            "Collecting jsonpointer==3.0.0 (from -r re.txt (line 66))\n",
            "  Downloading jsonpointer-3.0.0-py2.py3-none-any.whl (7.6 kB)\n",
            "Collecting jsonschema==4.22.0 (from -r re.txt (line 67))\n",
            "  Downloading jsonschema-4.22.0-py3-none-any.whl (88 kB)\n",
            "\u001b[2K     \u001b[90m━━━━━━━━━━━━━━━━━━━━━━━━━━━━━━━━━━━━━━━━\u001b[0m \u001b[32m88.3/88.3 kB\u001b[0m \u001b[31m10.1 MB/s\u001b[0m eta \u001b[36m0:00:00\u001b[0m\n",
            "\u001b[?25hRequirement already satisfied: jsonschema-specifications==2023.12.1 in /usr/local/lib/python3.10/dist-packages (from -r re.txt (line 68)) (2023.12.1)\n",
            "Collecting jupyter_client==8.6.2 (from -r re.txt (line 69))\n",
            "  Downloading jupyter_client-8.6.2-py3-none-any.whl (105 kB)\n",
            "\u001b[2K     \u001b[90m━━━━━━━━━━━━━━━━━━━━━━━━━━━━━━━━━━━━━━━━\u001b[0m \u001b[32m105.9/105.9 kB\u001b[0m \u001b[31m12.1 MB/s\u001b[0m eta \u001b[36m0:00:00\u001b[0m\n",
            "\u001b[?25hRequirement already satisfied: jupyter_core==5.7.2 in /usr/local/lib/python3.10/dist-packages (from -r re.txt (line 70)) (5.7.2)\n",
            "Collecting jupyter-events==0.10.0 (from -r re.txt (line 71))\n",
            "  Downloading jupyter_events-0.10.0-py3-none-any.whl (18 kB)\n",
            "Collecting jupyter-lsp==2.2.5 (from -r re.txt (line 72))\n",
            "  Downloading jupyter_lsp-2.2.5-py3-none-any.whl (69 kB)\n",
            "\u001b[2K     \u001b[90m━━━━━━━━━━━━━━━━━━━━━━━━━━━━━━━━━━━━━━━━\u001b[0m \u001b[32m69.1/69.1 kB\u001b[0m \u001b[31m6.7 MB/s\u001b[0m eta \u001b[36m0:00:00\u001b[0m\n",
            "\u001b[?25hCollecting jupyter_server==2.14.1 (from -r re.txt (line 73))\n",
            "  Downloading jupyter_server-2.14.1-py3-none-any.whl (383 kB)\n",
            "\u001b[2K     \u001b[90m━━━━━━━━━━━━━━━━━━━━━━━━━━━━━━━━━━━━━━━━\u001b[0m \u001b[32m383.4/383.4 kB\u001b[0m \u001b[31m30.9 MB/s\u001b[0m eta \u001b[36m0:00:00\u001b[0m\n",
            "\u001b[?25hCollecting jupyter_server_terminals==0.5.3 (from -r re.txt (line 74))\n",
            "  Downloading jupyter_server_terminals-0.5.3-py3-none-any.whl (13 kB)\n",
            "Collecting jupyterlab==4.2.2 (from -r re.txt (line 75))\n",
            "  Downloading jupyterlab-4.2.2-py3-none-any.whl (11.6 MB)\n",
            "\u001b[2K     \u001b[90m━━━━━━━━━━━━━━━━━━━━━━━━━━━━━━━━━━━━━━━━\u001b[0m \u001b[32m11.6/11.6 MB\u001b[0m \u001b[31m43.0 MB/s\u001b[0m eta \u001b[36m0:00:00\u001b[0m\n",
            "\u001b[?25hRequirement already satisfied: jupyterlab_pygments==0.3.0 in /usr/local/lib/python3.10/dist-packages (from -r re.txt (line 76)) (0.3.0)\n",
            "Collecting jupyterlab_server==2.27.2 (from -r re.txt (line 77))\n",
            "  Downloading jupyterlab_server-2.27.2-py3-none-any.whl (59 kB)\n",
            "\u001b[2K     \u001b[90m━━━━━━━━━━━━━━━━━━━━━━━━━━━━━━━━━━━━━━━━\u001b[0m \u001b[32m59.4/59.4 kB\u001b[0m \u001b[31m7.1 MB/s\u001b[0m eta \u001b[36m0:00:00\u001b[0m\n",
            "\u001b[?25hRequirement already satisfied: kiwisolver==1.4.5 in /usr/local/lib/python3.10/dist-packages (from -r re.txt (line 78)) (1.4.5)\n",
            "Requirement already satisfied: langcodes==3.4.0 in /usr/local/lib/python3.10/dist-packages (from -r re.txt (line 79)) (3.4.0)\n",
            "Requirement already satisfied: language_data==1.2.0 in /usr/local/lib/python3.10/dist-packages (from -r re.txt (line 80)) (1.2.0)\n",
            "Collecting Mako==1.3.5 (from -r re.txt (line 81))\n",
            "  Downloading Mako-1.3.5-py3-none-any.whl (78 kB)\n",
            "\u001b[2K     \u001b[90m━━━━━━━━━━━━━━━━━━━━━━━━━━━━━━━━━━━━━━━━\u001b[0m \u001b[32m78.6/78.6 kB\u001b[0m \u001b[31m8.9 MB/s\u001b[0m eta \u001b[36m0:00:00\u001b[0m\n",
            "\u001b[?25hRequirement already satisfied: marisa-trie==1.2.0 in /usr/local/lib/python3.10/dist-packages (from -r re.txt (line 82)) (1.2.0)\n",
            "Requirement already satisfied: Markdown==3.6 in /usr/local/lib/python3.10/dist-packages (from -r re.txt (line 83)) (3.6)\n",
            "Requirement already satisfied: MarkupSafe==2.1.5 in /usr/local/lib/python3.10/dist-packages (from -r re.txt (line 84)) (2.1.5)\n",
            "Requirement already satisfied: matplotlib==3.7.1 in /usr/local/lib/python3.10/dist-packages (from -r re.txt (line 85)) (3.7.1)\n",
            "Requirement already satisfied: matplotlib-inline==0.1.7 in /usr/local/lib/python3.10/dist-packages (from -r re.txt (line 86)) (0.1.7)\n",
            "Collecting mccabe==0.7.0 (from -r re.txt (line 87))\n",
            "  Downloading mccabe-0.7.0-py2.py3-none-any.whl (7.3 kB)\n",
            "Collecting mistune==3.0.2 (from -r re.txt (line 88))\n",
            "  Downloading mistune-3.0.2-py3-none-any.whl (47 kB)\n",
            "\u001b[2K     \u001b[90m━━━━━━━━━━━━━━━━━━━━━━━━━━━━━━━━━━━━━━━━\u001b[0m \u001b[32m48.0/48.0 kB\u001b[0m \u001b[31m4.4 MB/s\u001b[0m eta \u001b[36m0:00:00\u001b[0m\n",
            "\u001b[?25hCollecting mlflow==2.14.1 (from -r re.txt (line 89))\n",
            "  Downloading mlflow-2.14.1-py3-none-any.whl (25.8 MB)\n",
            "\u001b[2K     \u001b[90m━━━━━━━━━━━━━━━━━━━━━━━━━━━━━━━━━━━━━━━━\u001b[0m \u001b[32m25.8/25.8 MB\u001b[0m \u001b[31m17.3 MB/s\u001b[0m eta \u001b[36m0:00:00\u001b[0m\n",
            "\u001b[?25hRequirement already satisfied: murmurhash==1.0.10 in /usr/local/lib/python3.10/dist-packages (from -r re.txt (line 90)) (1.0.10)\n",
            "Collecting mypy-extensions==1.0.0 (from -r re.txt (line 91))\n",
            "  Downloading mypy_extensions-1.0.0-py3-none-any.whl (4.7 kB)\n",
            "Requirement already satisfied: nbclient==0.10.0 in /usr/local/lib/python3.10/dist-packages (from -r re.txt (line 92)) (0.10.0)\n",
            "Collecting nbconvert==7.16.4 (from -r re.txt (line 93))\n",
            "  Downloading nbconvert-7.16.4-py3-none-any.whl (257 kB)\n",
            "\u001b[2K     \u001b[90m━━━━━━━━━━━━━━━━━━━━━━━━━━━━━━━━━━━━━━━━\u001b[0m \u001b[32m257.4/257.4 kB\u001b[0m \u001b[31m25.1 MB/s\u001b[0m eta \u001b[36m0:00:00\u001b[0m\n",
            "\u001b[?25hRequirement already satisfied: nbformat==5.10.4 in /usr/local/lib/python3.10/dist-packages (from -r re.txt (line 94)) (5.10.4)\n",
            "Requirement already satisfied: nest-asyncio==1.6.0 in /usr/local/lib/python3.10/dist-packages (from -r re.txt (line 95)) (1.6.0)\n",
            "Requirement already satisfied: nltk==3.8.1 in /usr/local/lib/python3.10/dist-packages (from -r re.txt (line 96)) (3.8.1)\n",
            "Requirement already satisfied: notebook_shim==0.2.4 in /usr/local/lib/python3.10/dist-packages (from -r re.txt (line 97)) (0.2.4)\n",
            "Collecting numpy==1.24.2 (from -r re.txt (line 98))\n",
            "  Downloading numpy-1.24.2-cp310-cp310-manylinux_2_17_x86_64.manylinux2014_x86_64.whl (17.3 MB)\n",
            "\u001b[2K     \u001b[90m━━━━━━━━━━━━━━━━━━━━━━━━━━━━━━━━━━━━━━━━\u001b[0m \u001b[32m17.3/17.3 MB\u001b[0m \u001b[31m40.5 MB/s\u001b[0m eta \u001b[36m0:00:00\u001b[0m\n",
            "\u001b[?25hCollecting opentelemetry-api==1.25.0 (from -r re.txt (line 99))\n",
            "  Downloading opentelemetry_api-1.25.0-py3-none-any.whl (59 kB)\n",
            "\u001b[2K     \u001b[90m━━━━━━━━━━━━━━━━━━━━━━━━━━━━━━━━━━━━━━━━\u001b[0m \u001b[32m59.9/59.9 kB\u001b[0m \u001b[31m5.8 MB/s\u001b[0m eta \u001b[36m0:00:00\u001b[0m\n",
            "\u001b[?25hCollecting opentelemetry-sdk==1.25.0 (from -r re.txt (line 100))\n",
            "  Downloading opentelemetry_sdk-1.25.0-py3-none-any.whl (107 kB)\n",
            "\u001b[2K     \u001b[90m━━━━━━━━━━━━━━━━━━━━━━━━━━━━━━━━━━━━━━━━\u001b[0m \u001b[32m107.0/107.0 kB\u001b[0m \u001b[31m12.8 MB/s\u001b[0m eta \u001b[36m0:00:00\u001b[0m\n",
            "\u001b[?25hCollecting opentelemetry-semantic-conventions==0.46b0 (from -r re.txt (line 101))\n",
            "  Downloading opentelemetry_semantic_conventions-0.46b0-py3-none-any.whl (130 kB)\n",
            "\u001b[2K     \u001b[90m━━━━━━━━━━━━━━━━━━━━━━━━━━━━━━━━━━━━━━━━\u001b[0m \u001b[32m130.5/130.5 kB\u001b[0m \u001b[31m15.6 MB/s\u001b[0m eta \u001b[36m0:00:00\u001b[0m\n",
            "\u001b[?25hCollecting overrides==7.7.0 (from -r re.txt (line 102))\n",
            "  Downloading overrides-7.7.0-py3-none-any.whl (17 kB)\n",
            "Requirement already satisfied: packaging==24.1 in /usr/local/lib/python3.10/dist-packages (from -r re.txt (line 103)) (24.1)\n",
            "Collecting pandas==2.0.0 (from -r re.txt (line 104))\n",
            "  Downloading pandas-2.0.0-cp310-cp310-manylinux_2_17_x86_64.manylinux2014_x86_64.whl (12.3 MB)\n",
            "\u001b[2K     \u001b[90m━━━━━━━━━━━━━━━━━━━━━━━━━━━━━━━━━━━━━━━━\u001b[0m \u001b[32m12.3/12.3 MB\u001b[0m \u001b[31m51.8 MB/s\u001b[0m eta \u001b[36m0:00:00\u001b[0m\n",
            "\u001b[?25hRequirement already satisfied: pandocfilters==1.5.1 in /usr/local/lib/python3.10/dist-packages (from -r re.txt (line 105)) (1.5.1)\n",
            "Requirement already satisfied: parso==0.8.4 in /usr/local/lib/python3.10/dist-packages (from -r re.txt (line 106)) (0.8.4)\n",
            "Collecting pathlib_abc==0.1.1 (from -r re.txt (line 107))\n",
            "  Downloading pathlib_abc-0.1.1-py3-none-any.whl (23 kB)\n",
            "Collecting pathspec==0.12.1 (from -r re.txt (line 108))\n",
            "  Downloading pathspec-0.12.1-py3-none-any.whl (31 kB)\n",
            "Collecting pathy==0.11.0 (from -r re.txt (line 109))\n",
            "  Downloading pathy-0.11.0-py3-none-any.whl (47 kB)\n",
            "\u001b[2K     \u001b[90m━━━━━━━━━━━━━━━━━━━━━━━━━━━━━━━━━━━━━━━━\u001b[0m \u001b[32m47.3/47.3 kB\u001b[0m \u001b[31m4.8 MB/s\u001b[0m eta \u001b[36m0:00:00\u001b[0m\n",
            "\u001b[?25hRequirement already satisfied: pexpect==4.9.0 in /usr/local/lib/python3.10/dist-packages (from -r re.txt (line 110)) (4.9.0)\n",
            "Collecting pillow==10.3.0 (from -r re.txt (line 111))\n",
            "  Downloading pillow-10.3.0-cp310-cp310-manylinux_2_28_x86_64.whl (4.5 MB)\n",
            "\u001b[2K     \u001b[90m━━━━━━━━━━━━━━━━━━━━━━━━━━━━━━━━━━━━━━━━\u001b[0m \u001b[32m4.5/4.5 MB\u001b[0m \u001b[31m67.2 MB/s\u001b[0m eta \u001b[36m0:00:00\u001b[0m\n",
            "\u001b[?25hCollecting pip==22.0.2 (from -r re.txt (line 112))\n",
            "  Downloading pip-22.0.2-py3-none-any.whl (2.1 MB)\n",
            "\u001b[2K     \u001b[90m━━━━━━━━━━━━━━━━━━━━━━━━━━━━━━━━━━━━━━━━\u001b[0m \u001b[32m2.1/2.1 MB\u001b[0m \u001b[31m73.2 MB/s\u001b[0m eta \u001b[36m0:00:00\u001b[0m\n",
            "\u001b[?25hRequirement already satisfied: platformdirs==4.2.2 in /usr/local/lib/python3.10/dist-packages (from -r re.txt (line 113)) (4.2.2)\n",
            "Requirement already satisfied: pluggy==1.5.0 in /usr/local/lib/python3.10/dist-packages (from -r re.txt (line 114)) (1.5.0)\n",
            "Requirement already satisfied: preshed==3.0.9 in /usr/local/lib/python3.10/dist-packages (from -r re.txt (line 115)) (3.0.9)\n",
            "Requirement already satisfied: prometheus_client==0.20.0 in /usr/local/lib/python3.10/dist-packages (from -r re.txt (line 116)) (0.20.0)\n",
            "Requirement already satisfied: prompt_toolkit==3.0.47 in /usr/local/lib/python3.10/dist-packages (from -r re.txt (line 117)) (3.0.47)\n",
            "Collecting protobuf==4.25.3 (from -r re.txt (line 118))\n",
            "  Downloading protobuf-4.25.3-cp37-abi3-manylinux2014_x86_64.whl (294 kB)\n",
            "\u001b[2K     \u001b[90m━━━━━━━━━━━━━━━━━━━━━━━━━━━━━━━━━━━━━━━━\u001b[0m \u001b[32m294.6/294.6 kB\u001b[0m \u001b[31m29.6 MB/s\u001b[0m eta \u001b[36m0:00:00\u001b[0m\n",
            "\u001b[?25hCollecting psutil==6.0.0 (from -r re.txt (line 119))\n",
            "  Downloading psutil-6.0.0-cp36-abi3-manylinux_2_12_x86_64.manylinux2010_x86_64.manylinux_2_17_x86_64.manylinux2014_x86_64.whl (290 kB)\n",
            "\u001b[2K     \u001b[90m━━━━━━━━━━━━━━━━━━━━━━━━━━━━━━━━━━━━━━━━\u001b[0m \u001b[32m290.5/290.5 kB\u001b[0m \u001b[31m27.7 MB/s\u001b[0m eta \u001b[36m0:00:00\u001b[0m\n",
            "\u001b[?25hRequirement already satisfied: ptyprocess==0.7.0 in /usr/local/lib/python3.10/dist-packages (from -r re.txt (line 120)) (0.7.0)\n",
            "Collecting pure-eval==0.2.2 (from -r re.txt (line 121))\n",
            "  Downloading pure_eval-0.2.2-py3-none-any.whl (11 kB)\n",
            "Collecting pyarrow==15.0.2 (from -r re.txt (line 122))\n",
            "  Downloading pyarrow-15.0.2-cp310-cp310-manylinux_2_28_x86_64.whl (38.3 MB)\n",
            "\u001b[2K     \u001b[90m━━━━━━━━━━━━━━━━━━━━━━━━━━━━━━━━━━━━━━━━\u001b[0m \u001b[32m38.3/38.3 MB\u001b[0m \u001b[31m11.5 MB/s\u001b[0m eta \u001b[36m0:00:00\u001b[0m\n",
            "\u001b[?25hCollecting pycodestyle==2.10.0 (from -r re.txt (line 123))\n",
            "  Downloading pycodestyle-2.10.0-py2.py3-none-any.whl (41 kB)\n",
            "\u001b[2K     \u001b[90m━━━━━━━━━━━━━━━━━━━━━━━━━━━━━━━━━━━━━━━━\u001b[0m \u001b[32m41.3/41.3 kB\u001b[0m \u001b[31m3.7 MB/s\u001b[0m eta \u001b[36m0:00:00\u001b[0m\n",
            "\u001b[?25hRequirement already satisfied: pycparser==2.22 in /usr/local/lib/python3.10/dist-packages (from -r re.txt (line 124)) (2.22)\n",
            "Collecting pydantic==1.10.17 (from -r re.txt (line 125))\n",
            "  Downloading pydantic-1.10.17-cp310-cp310-manylinux_2_17_x86_64.manylinux2014_x86_64.whl (3.1 MB)\n",
            "\u001b[2K     \u001b[90m━━━━━━━━━━━━━━━━━━━━━━━━━━━━━━━━━━━━━━━━\u001b[0m \u001b[32m3.1/3.1 MB\u001b[0m \u001b[31m87.5 MB/s\u001b[0m eta \u001b[36m0:00:00\u001b[0m\n",
            "\u001b[?25hCollecting pyflakes==3.0.1 (from -r re.txt (line 126))\n",
            "  Downloading pyflakes-3.0.1-py2.py3-none-any.whl (62 kB)\n",
            "\u001b[2K     \u001b[90m━━━━━━━━━━━━━━━━━━━━━━━━━━━━━━━━━━━━━━━━\u001b[0m \u001b[32m62.8/62.8 kB\u001b[0m \u001b[31m7.4 MB/s\u001b[0m eta \u001b[36m0:00:00\u001b[0m\n",
            "\u001b[?25hCollecting Pygments==2.18.0 (from -r re.txt (line 127))\n",
            "  Downloading pygments-2.18.0-py3-none-any.whl (1.2 MB)\n",
            "\u001b[2K     \u001b[90m━━━━━━━━━━━━━━━━━━━━━━━━━━━━━━━━━━━━━━━━\u001b[0m \u001b[32m1.2/1.2 MB\u001b[0m \u001b[31m66.7 MB/s\u001b[0m eta \u001b[36m0:00:00\u001b[0m\n",
            "\u001b[?25hRequirement already satisfied: pyparsing==3.1.2 in /usr/local/lib/python3.10/dist-packages (from -r re.txt (line 128)) (3.1.2)\n",
            "Requirement already satisfied: PySocks==1.7.1 in /usr/local/lib/python3.10/dist-packages (from -r re.txt (line 129)) (1.7.1)\n",
            "Collecting pytest==7.3.0 (from -r re.txt (line 130))\n",
            "  Downloading pytest-7.3.0-py3-none-any.whl (320 kB)\n",
            "\u001b[2K     \u001b[90m━━━━━━━━━━━━━━━━━━━━━━━━━━━━━━━━━━━━━━━━\u001b[0m \u001b[32m320.5/320.5 kB\u001b[0m \u001b[31m31.8 MB/s\u001b[0m eta \u001b[36m0:00:00\u001b[0m\n",
            "\u001b[?25hCollecting python-dateutil==2.9.0.post0 (from -r re.txt (line 131))\n",
            "  Downloading python_dateutil-2.9.0.post0-py2.py3-none-any.whl (229 kB)\n",
            "\u001b[2K     \u001b[90m━━━━━━━━━━━━━━━━━━━━━━━━━━━━━━━━━━━━━━━━\u001b[0m \u001b[32m229.9/229.9 kB\u001b[0m \u001b[31m25.9 MB/s\u001b[0m eta \u001b[36m0:00:00\u001b[0m\n",
            "\u001b[?25hCollecting python-json-logger==2.0.7 (from -r re.txt (line 132))\n",
            "  Downloading python_json_logger-2.0.7-py3-none-any.whl (8.1 kB)\n",
            "Collecting pytz==2024.1 (from -r re.txt (line 133))\n",
            "  Downloading pytz-2024.1-py2.py3-none-any.whl (505 kB)\n",
            "\u001b[2K     \u001b[90m━━━━━━━━━━━━━━━━━━━━━━━━━━━━━━━━━━━━━━━━\u001b[0m \u001b[32m505.5/505.5 kB\u001b[0m \u001b[31m39.2 MB/s\u001b[0m eta \u001b[36m0:00:00\u001b[0m\n",
            "\u001b[?25hRequirement already satisfied: PyYAML==6.0.1 in /usr/local/lib/python3.10/dist-packages (from -r re.txt (line 134)) (6.0.1)\n",
            "Collecting pyzmq==26.0.3 (from -r re.txt (line 135))\n",
            "  Downloading pyzmq-26.0.3-cp310-cp310-manylinux_2_28_x86_64.whl (919 kB)\n",
            "\u001b[2K     \u001b[90m━━━━━━━━━━━━━━━━━━━━━━━━━━━━━━━━━━━━━━━━\u001b[0m \u001b[32m919.8/919.8 kB\u001b[0m \u001b[31m56.0 MB/s\u001b[0m eta \u001b[36m0:00:00\u001b[0m\n",
            "\u001b[?25hCollecting querystring-parser==1.2.4 (from -r re.txt (line 136))\n",
            "  Downloading querystring_parser-1.2.4-py2.py3-none-any.whl (7.9 kB)\n",
            "Requirement already satisfied: referencing==0.35.1 in /usr/local/lib/python3.10/dist-packages (from -r re.txt (line 137)) (0.35.1)\n",
            "Requirement already satisfied: regex==2024.5.15 in /usr/local/lib/python3.10/dist-packages (from -r re.txt (line 138)) (2024.5.15)\n",
            "Collecting requests==2.32.3 (from -r re.txt (line 139))\n",
            "  Downloading requests-2.32.3-py3-none-any.whl (64 kB)\n",
            "\u001b[2K     \u001b[90m━━━━━━━━━━━━━━━━━━━━━━━━━━━━━━━━━━━━━━━━\u001b[0m \u001b[32m64.9/64.9 kB\u001b[0m \u001b[31m8.2 MB/s\u001b[0m eta \u001b[36m0:00:00\u001b[0m\n",
            "\u001b[?25hCollecting rfc3339-validator==0.1.4 (from -r re.txt (line 140))\n",
            "  Downloading rfc3339_validator-0.1.4-py2.py3-none-any.whl (3.5 kB)\n",
            "Collecting rfc3986-validator==0.1.1 (from -r re.txt (line 141))\n",
            "  Downloading rfc3986_validator-0.1.1-py2.py3-none-any.whl (4.2 kB)\n",
            "Requirement already satisfied: rpds-py==0.18.1 in /usr/local/lib/python3.10/dist-packages (from -r re.txt (line 142)) (0.18.1)\n",
            "Requirement already satisfied: scikit-learn==1.2.2 in /usr/local/lib/python3.10/dist-packages (from -r re.txt (line 143)) (1.2.2)\n",
            "Collecting scipy==1.10.1 (from -r re.txt (line 144))\n",
            "  Downloading scipy-1.10.1-cp310-cp310-manylinux_2_17_x86_64.manylinux2014_x86_64.whl (34.4 MB)\n",
            "\u001b[2K     \u001b[90m━━━━━━━━━━━━━━━━━━━━━━━━━━━━━━━━━━━━━━━━\u001b[0m \u001b[32m34.4/34.4 MB\u001b[0m \u001b[31m35.8 MB/s\u001b[0m eta \u001b[36m0:00:00\u001b[0m\n",
            "\u001b[?25hRequirement already satisfied: Send2Trash==1.8.3 in /usr/local/lib/python3.10/dist-packages (from -r re.txt (line 145)) (1.8.3)\n",
            "Collecting setuptools==59.6.0 (from -r re.txt (line 146))\n",
            "  Downloading setuptools-59.6.0-py3-none-any.whl (952 kB)\n",
            "\u001b[2K     \u001b[90m━━━━━━━━━━━━━━━━━━━━━━━━━━━━━━━━━━━━━━━━\u001b[0m \u001b[32m952.6/952.6 kB\u001b[0m \u001b[31m47.2 MB/s\u001b[0m eta \u001b[36m0:00:00\u001b[0m\n",
            "\u001b[?25hRequirement already satisfied: six==1.16.0 in /usr/local/lib/python3.10/dist-packages (from -r re.txt (line 147)) (1.16.0)\n",
            "Collecting smart-open==6.4.0 (from -r re.txt (line 148))\n",
            "  Downloading smart_open-6.4.0-py3-none-any.whl (57 kB)\n",
            "\u001b[2K     \u001b[90m━━━━━━━━━━━━━━━━━━━━━━━━━━━━━━━━━━━━━━━━\u001b[0m \u001b[32m57.0/57.0 kB\u001b[0m \u001b[31m7.1 MB/s\u001b[0m eta \u001b[36m0:00:00\u001b[0m\n",
            "\u001b[?25hCollecting smmap==5.0.1 (from -r re.txt (line 149))\n",
            "  Downloading smmap-5.0.1-py3-none-any.whl (24 kB)\n",
            "Requirement already satisfied: sniffio==1.3.1 in /usr/local/lib/python3.10/dist-packages (from -r re.txt (line 150)) (1.3.1)\n",
            "Requirement already satisfied: soupsieve==2.5 in /usr/local/lib/python3.10/dist-packages (from -r re.txt (line 151)) (2.5)\n",
            "Collecting spacy==3.5.2 (from -r re.txt (line 152))\n",
            "  Downloading spacy-3.5.2-cp310-cp310-manylinux_2_17_x86_64.manylinux2014_x86_64.whl (6.6 MB)\n",
            "\u001b[2K     \u001b[90m━━━━━━━━━━━━━━━━━━━━━━━━━━━━━━━━━━━━━━━━\u001b[0m \u001b[32m6.6/6.6 MB\u001b[0m \u001b[31m69.5 MB/s\u001b[0m eta \u001b[36m0:00:00\u001b[0m\n",
            "\u001b[?25hRequirement already satisfied: spacy-legacy==3.0.12 in /usr/local/lib/python3.10/dist-packages (from -r re.txt (line 153)) (3.0.12)\n",
            "Requirement already satisfied: spacy-loggers==1.0.5 in /usr/local/lib/python3.10/dist-packages (from -r re.txt (line 154)) (1.0.5)\n",
            "Requirement already satisfied: SQLAlchemy==2.0.31 in /usr/local/lib/python3.10/dist-packages (from -r re.txt (line 155)) (2.0.31)\n",
            "Requirement already satisfied: sqlparse==0.5.0 in /usr/local/lib/python3.10/dist-packages (from -r re.txt (line 156)) (0.5.0)\n",
            "Requirement already satisfied: srsly==2.4.8 in /usr/local/lib/python3.10/dist-packages (from -r re.txt (line 157)) (2.4.8)\n",
            "Collecting stack-data==0.6.3 (from -r re.txt (line 158))\n",
            "  Downloading stack_data-0.6.3-py3-none-any.whl (24 kB)\n",
            "Requirement already satisfied: terminado==0.18.1 in /usr/local/lib/python3.10/dist-packages (from -r re.txt (line 159)) (0.18.1)\n",
            "Collecting thinc==8.1.12 (from -r re.txt (line 160))\n",
            "  Downloading thinc-8.1.12-cp310-cp310-manylinux_2_17_x86_64.manylinux2014_x86_64.whl (919 kB)\n",
            "\u001b[2K     \u001b[90m━━━━━━━━━━━━━━━━━━━━━━━━━━━━━━━━━━━━━━━━\u001b[0m \u001b[32m919.6/919.6 kB\u001b[0m \u001b[31m40.6 MB/s\u001b[0m eta \u001b[36m0:00:00\u001b[0m\n",
            "\u001b[?25hRequirement already satisfied: threadpoolctl==3.5.0 in /usr/local/lib/python3.10/dist-packages (from -r re.txt (line 161)) (3.5.0)\n",
            "Requirement already satisfied: tinycss2==1.3.0 in /usr/local/lib/python3.10/dist-packages (from -r re.txt (line 162)) (1.3.0)\n",
            "Collecting tokenize-rt==5.2.0 (from -r re.txt (line 163))\n",
            "  Downloading tokenize_rt-5.2.0-py2.py3-none-any.whl (5.8 kB)\n",
            "Requirement already satisfied: tomli==2.0.1 in /usr/local/lib/python3.10/dist-packages (from -r re.txt (line 164)) (2.0.1)\n",
            "Collecting tornado==6.4.1 (from -r re.txt (line 165))\n",
            "  Downloading tornado-6.4.1-cp38-abi3-manylinux_2_5_x86_64.manylinux1_x86_64.manylinux_2_17_x86_64.manylinux2014_x86_64.whl (436 kB)\n",
            "\u001b[2K     \u001b[90m━━━━━━━━━━━━━━━━━━━━━━━━━━━━━━━━━━━━━━━━\u001b[0m \u001b[32m436.8/436.8 kB\u001b[0m \u001b[31m36.5 MB/s\u001b[0m eta \u001b[36m0:00:00\u001b[0m\n",
            "\u001b[?25hRequirement already satisfied: tqdm==4.66.4 in /usr/local/lib/python3.10/dist-packages (from -r re.txt (line 166)) (4.66.4)\n",
            "Collecting traitlets==5.14.3 (from -r re.txt (line 167))\n",
            "  Downloading traitlets-5.14.3-py3-none-any.whl (85 kB)\n",
            "\u001b[2K     \u001b[90m━━━━━━━━━━━━━━━━━━━━━━━━━━━━━━━━━━━━━━━━\u001b[0m \u001b[32m85.4/85.4 kB\u001b[0m \u001b[31m8.5 MB/s\u001b[0m eta \u001b[36m0:00:00\u001b[0m\n",
            "\u001b[?25hCollecting typer==0.7.0 (from -r re.txt (line 168))\n",
            "  Downloading typer-0.7.0-py3-none-any.whl (38 kB)\n",
            "Collecting types-python-dateutil==2.9.0.20240316 (from -r re.txt (line 169))\n",
            "  Downloading types_python_dateutil-2.9.0.20240316-py3-none-any.whl (9.7 kB)\n",
            "Requirement already satisfied: typing_extensions==4.12.2 in /usr/local/lib/python3.10/dist-packages (from -r re.txt (line 170)) (4.12.2)\n",
            "Requirement already satisfied: tzdata==2024.1 in /usr/local/lib/python3.10/dist-packages (from -r re.txt (line 171)) (2024.1)\n",
            "Collecting uri-template==1.3.0 (from -r re.txt (line 172))\n",
            "  Downloading uri_template-1.3.0-py3-none-any.whl (11 kB)\n",
            "Collecting urllib3==2.2.2 (from -r re.txt (line 173))\n",
            "  Downloading urllib3-2.2.2-py3-none-any.whl (121 kB)\n",
            "\u001b[2K     \u001b[90m━━━━━━━━━━━━━━━━━━━━━━━━━━━━━━━━━━━━━━━━\u001b[0m \u001b[32m121.4/121.4 kB\u001b[0m \u001b[31m13.6 MB/s\u001b[0m eta \u001b[36m0:00:00\u001b[0m\n",
            "\u001b[?25hRequirement already satisfied: wasabi==1.1.3 in /usr/local/lib/python3.10/dist-packages (from -r re.txt (line 174)) (1.1.3)\n",
            "Requirement already satisfied: wcwidth==0.2.13 in /usr/local/lib/python3.10/dist-packages (from -r re.txt (line 175)) (0.2.13)\n",
            "Requirement already satisfied: webcolors==24.6.0 in /usr/local/lib/python3.10/dist-packages (from -r re.txt (line 176)) (24.6.0)\n",
            "Requirement already satisfied: webencodings==0.5.1 in /usr/local/lib/python3.10/dist-packages (from -r re.txt (line 177)) (0.5.1)\n",
            "Requirement already satisfied: websocket-client==1.8.0 in /usr/local/lib/python3.10/dist-packages (from -r re.txt (line 178)) (1.8.0)\n",
            "Requirement already satisfied: Werkzeug==3.0.3 in /usr/local/lib/python3.10/dist-packages (from -r re.txt (line 179)) (3.0.3)\n",
            "Collecting wrapt==1.16.0 (from -r re.txt (line 180))\n",
            "  Downloading wrapt-1.16.0-cp310-cp310-manylinux_2_5_x86_64.manylinux1_x86_64.manylinux_2_17_x86_64.manylinux2014_x86_64.whl (80 kB)\n",
            "\u001b[2K     \u001b[90m━━━━━━━━━━━━━━━━━━━━━━━━━━━━━━━━━━━━━━━━\u001b[0m \u001b[32m80.3/80.3 kB\u001b[0m \u001b[31m8.0 MB/s\u001b[0m eta \u001b[36m0:00:00\u001b[0m\n",
            "\u001b[?25hRequirement already satisfied: zipp==3.19.2 in /usr/local/lib/python3.10/dist-packages (from -r re.txt (line 181)) (3.19.2)\n",
            "Requirement already satisfied: requests[socks] in /usr/local/lib/python3.10/dist-packages (from gdown==4.6.0->-r re.txt (line 42)) (2.31.0)\n",
            "Requirement already satisfied: jsonschema[format-nongpl]>=4.18.0 in /usr/local/lib/python3.10/dist-packages (from jupyter-events==0.10.0->-r re.txt (line 71)) (4.19.2)\n",
            "INFO: pip is looking at multiple versions of jsonschema[format-nongpl] to determine which version is compatible with other requirements. This could take a while.\n",
            "Collecting jsonschema[format-nongpl]>=4.18.0 (from jupyter-events==0.10.0->-r re.txt (line 71))\n",
            "  Downloading jsonschema-4.23.0-py3-none-any.whl (88 kB)\n",
            "\u001b[2K     \u001b[90m━━━━━━━━━━━━━━━━━━━━━━━━━━━━━━━━━━━━━━━━\u001b[0m \u001b[32m88.5/88.5 kB\u001b[0m \u001b[31m10.7 MB/s\u001b[0m eta \u001b[36m0:00:00\u001b[0m\n",
            "\u001b[?25hINFO: pip is looking at multiple versions of requests[socks] to determine which version is compatible with other requirements. This could take a while.\n",
            "Installing collected packages: pytz, pure-eval, aniso8601, wrapt, urllib3, uri-template, types-python-dateutil, typer, traitlets, tornado, tokenize-rt, smmap, smart-open, setuptools, rfc3986-validator, rfc3339-validator, querystring-parser, pyzmq, python-json-logger, python-dateutil, pytest, Pygments, pyflakes, pydantic, pycodestyle, psutil, protobuf, pip, pillow, pathspec, pathlib_abc, overrides, numpy, mypy-extensions, mistune, mccabe, Mako, jsonpointer, json5, jedi, isort, importlib_metadata, h11, gunicorn, graphql-core, fqdn, executing, decorator, debugpy, cloudpickle, blinker, beautifulsoup4, async-lru, asttokens, anyio, stack-data, scipy, requests, pyarrow, pathy, pandas, httpcore, graphql-relay, gitdb, Flask, flake8, Deprecated, comm, black, arrow, alembic, thinc, opentelemetry-api, jupyter_server_terminals, jupyter_client, jsonschema, isoduration, ipython, httpx, graphene, GitPython, docker, opentelemetry-semantic-conventions, ipykernel, gdown, spacy, opentelemetry-sdk, jupyter-events, nbconvert, mlflow, jupyter_server, jupyterlab_server, jupyter-lsp, jupyterlab\n",
            "  Attempting uninstall: pytz\n",
            "    Found existing installation: pytz 2023.4\n",
            "    Uninstalling pytz-2023.4:\n",
            "      Successfully uninstalled pytz-2023.4\n",
            "  Attempting uninstall: wrapt\n",
            "    Found existing installation: wrapt 1.14.1\n",
            "    Uninstalling wrapt-1.14.1:\n",
            "      Successfully uninstalled wrapt-1.14.1\n",
            "  Attempting uninstall: urllib3\n",
            "    Found existing installation: urllib3 2.0.7\n",
            "    Uninstalling urllib3-2.0.7:\n",
            "      Successfully uninstalled urllib3-2.0.7\n",
            "  Attempting uninstall: typer\n",
            "    Found existing installation: typer 0.12.3\n",
            "    Uninstalling typer-0.12.3:\n",
            "      Successfully uninstalled typer-0.12.3\n",
            "  Attempting uninstall: traitlets\n",
            "    Found existing installation: traitlets 5.7.1\n",
            "    Uninstalling traitlets-5.7.1:\n",
            "      Successfully uninstalled traitlets-5.7.1\n",
            "  Attempting uninstall: tornado\n",
            "    Found existing installation: tornado 6.3.3\n",
            "    Uninstalling tornado-6.3.3:\n",
            "      Successfully uninstalled tornado-6.3.3\n",
            "  Attempting uninstall: smart-open\n",
            "    Found existing installation: smart-open 7.0.4\n",
            "    Uninstalling smart-open-7.0.4:\n",
            "      Successfully uninstalled smart-open-7.0.4\n",
            "  Attempting uninstall: setuptools\n",
            "    Found existing installation: setuptools 67.7.2\n",
            "    Uninstalling setuptools-67.7.2:\n",
            "      Successfully uninstalled setuptools-67.7.2\n",
            "  Attempting uninstall: pyzmq\n",
            "    Found existing installation: pyzmq 24.0.1\n",
            "    Uninstalling pyzmq-24.0.1:\n",
            "      Successfully uninstalled pyzmq-24.0.1\n",
            "  Attempting uninstall: python-dateutil\n",
            "    Found existing installation: python-dateutil 2.8.2\n",
            "    Uninstalling python-dateutil-2.8.2:\n",
            "      Successfully uninstalled python-dateutil-2.8.2\n",
            "  Attempting uninstall: pytest\n",
            "    Found existing installation: pytest 7.4.4\n",
            "    Uninstalling pytest-7.4.4:\n",
            "      Successfully uninstalled pytest-7.4.4\n",
            "  Attempting uninstall: Pygments\n",
            "    Found existing installation: Pygments 2.16.1\n",
            "    Uninstalling Pygments-2.16.1:\n",
            "      Successfully uninstalled Pygments-2.16.1\n",
            "  Attempting uninstall: pydantic\n",
            "    Found existing installation: pydantic 2.8.0\n",
            "    Uninstalling pydantic-2.8.0:\n",
            "      Successfully uninstalled pydantic-2.8.0\n",
            "  Attempting uninstall: psutil\n",
            "    Found existing installation: psutil 5.9.5\n",
            "    Uninstalling psutil-5.9.5:\n",
            "      Successfully uninstalled psutil-5.9.5\n",
            "  Attempting uninstall: protobuf\n",
            "    Found existing installation: protobuf 3.20.3\n",
            "    Uninstalling protobuf-3.20.3:\n",
            "      Successfully uninstalled protobuf-3.20.3\n",
            "  Attempting uninstall: pip\n",
            "    Found existing installation: pip 23.1.2\n",
            "    Uninstalling pip-23.1.2:\n",
            "      Successfully uninstalled pip-23.1.2\n",
            "  Attempting uninstall: pillow\n",
            "    Found existing installation: Pillow 9.4.0\n",
            "    Uninstalling Pillow-9.4.0:\n",
            "      Successfully uninstalled Pillow-9.4.0\n",
            "  Attempting uninstall: numpy\n",
            "    Found existing installation: numpy 1.25.2\n",
            "    Uninstalling numpy-1.25.2:\n",
            "      Successfully uninstalled numpy-1.25.2\n",
            "  Attempting uninstall: mistune\n",
            "    Found existing installation: mistune 0.8.4\n",
            "    Uninstalling mistune-0.8.4:\n",
            "      Successfully uninstalled mistune-0.8.4\n",
            "  Attempting uninstall: importlib_metadata\n",
            "    Found existing installation: importlib_metadata 8.0.0\n",
            "    Uninstalling importlib_metadata-8.0.0:\n",
            "      Successfully uninstalled importlib_metadata-8.0.0\n",
            "  Attempting uninstall: decorator\n",
            "    Found existing installation: decorator 4.4.2\n",
            "    Uninstalling decorator-4.4.2:\n",
            "      Successfully uninstalled decorator-4.4.2\n",
            "  Attempting uninstall: debugpy\n",
            "    Found existing installation: debugpy 1.6.6\n",
            "    Uninstalling debugpy-1.6.6:\n",
            "      Successfully uninstalled debugpy-1.6.6\n",
            "  Attempting uninstall: cloudpickle\n",
            "    Found existing installation: cloudpickle 2.2.1\n",
            "    Uninstalling cloudpickle-2.2.1:\n",
            "      Successfully uninstalled cloudpickle-2.2.1\n",
            "  Attempting uninstall: blinker\n",
            "    Found existing installation: blinker 1.4\n",
            "\u001b[31mERROR: Cannot uninstall 'blinker'. It is a distutils installed project and thus we cannot accurately determine which files belong to it which would lead to only a partial uninstall.\u001b[0m\u001b[31m\n",
            "\u001b[0m"
          ]
        }
      ]
    },
    {
      "cell_type": "code",
      "execution_count": 4,
      "metadata": {
        "colab": {
          "base_uri": "https://localhost:8080/"
        },
        "id": "qP-q09vBvHEt",
        "outputId": "13ec5517-47ae-4eee-88e8-4c41e3086df5"
      },
      "outputs": [
        {
          "output_type": "stream",
          "name": "stderr",
          "text": [
            "[nltk_data] Downloading package stopwords to /root/nltk_data...\n",
            "[nltk_data]   Unzipping corpora/stopwords.zip.\n",
            "[nltk_data] Downloading package punkt to /root/nltk_data...\n",
            "[nltk_data]   Unzipping tokenizers/punkt.zip.\n"
          ]
        }
      ],
      "source": [
        "from src import data_utils\n",
        "import os\n",
        "import sys\n",
        "import pandas as pd\n",
        "import numpy as np\n",
        "from gensim.models import Word2Vec\n",
        "import nltk\n",
        "import random\n",
        "\n",
        "sys.path.append(os.path.dirname(os.getcwd()))\n",
        "\n",
        "from src import word2vec\n",
        "from src import evaluation\n",
        "from src import text_normalizer\n",
        "\n",
        "np.random.seed(42)\n",
        "\n",
        "train, test = data_utils.get_datasets()"
      ]
    },
    {
      "cell_type": "code",
      "execution_count": 30,
      "metadata": {
        "id": "am2kbbfMvHEw"
      },
      "outputs": [],
      "source": [
        "# TODO Complete in this cell: Complete the function `split_data()` but not here in\n",
        "# the notebook, do it in the python module called `data_utils.py`.\n",
        "# Then make sure this code runs without errors.\n",
        "X_train, y_train, X_test, y_test = data_utils.split_data(train, test)"
      ]
    },
    {
      "cell_type": "code",
      "source": [
        "num_elements = len(X_train)\n",
        "num_to_filter = int(num_elements * 1.0)\n",
        "\n",
        "indices = list(range(num_elements))\n",
        "indeces_filter = random.sample(indices, num_to_filter)\n",
        "\n",
        "boolean_matrix = [False] * num_elements\n",
        "for index in indeces_filter:\n",
        "  boolean_matrix[index] = True\n",
        "\n",
        "X_train = X_train[boolean_matrix]\n",
        "y_train = y_train[boolean_matrix]\n",
        "\n",
        "num_elements = len(X_test)\n",
        "num_to_filter = int(num_elements * 1.0)\n",
        "\n",
        "indices = list(range(num_elements))\n",
        "indeces_filter = random.sample(indices, num_to_filter)\n",
        "\n",
        "boolean_matrix = [False] * num_elements\n",
        "for index in indeces_filter:\n",
        "  boolean_matrix[index] = True\n",
        "\n",
        "X_test = X_test[boolean_matrix]\n",
        "y_test = y_test[boolean_matrix]\n"
      ],
      "metadata": {
        "id": "MC-0xbqG9q4r"
      },
      "execution_count": 31,
      "outputs": []
    },
    {
      "cell_type": "code",
      "source": [
        "len(X_train)"
      ],
      "metadata": {
        "colab": {
          "base_uri": "https://localhost:8080/"
        },
        "id": "t_leZmPQTQa_",
        "outputId": "6dcafe0d-a882-4197-8754-176287b80349"
      },
      "execution_count": 8,
      "outputs": [
        {
          "output_type": "execute_result",
          "data": {
            "text/plain": [
              "25000"
            ]
          },
          "metadata": {},
          "execution_count": 8
        }
      ]
    },
    {
      "cell_type": "markdown",
      "metadata": {
        "id": "M4SOofBj_0KM"
      },
      "source": [
        "---\n",
        "## 2. Normalize the data\n",
        "\n",
        "**Create the following functions but not here in the notebook, do it in the python script called `text_normalizer.py` and import them into the notebook (this way you can build your own NLP preprocessing library). In fact, the structure of the functions is already written, you must complete them with the code that you consider necessary.**\n",
        "\n",
        "- `remove_html_tags(text):` to remove all HTML tags that may be present in text.\n",
        "- `remove_accented_chars(text):` to remove accented characters from text\n",
        "- `expand_contractions(text):` to expand contractions of the type, \"don't\" to \"do not\". The contractions are already defined in the \"contractions.py\" file.\n",
        "- `lemmatize_text(text):` to lemmatize text.\n",
        "- `stem_text(text):` to apply stemming (NLTK's PorterStemmer) on text.\n",
        "- `remove_special_chars(text):` to remove special characters from text.\n",
        "- `remove_special_chars(text, remove_digits=True):` to remove numbers, note that it is the same function to remove special characters with the addition of an argument that enables or disables the removal of numbers.\n",
        "- `remove_stopwords(text, stopwords=stop_words):` to remove stopwords from text.\n",
        "- `remove_extra_new_lines(text):` to remove extra newlines from text.\n",
        "- `remove_extra_whitespace(text):` to remove extra whitespaces from text.\n",
        "\n",
        "If you want to add more features that would be great, for example you could start by removing emojis, using different stemming algorithms, etc. The more functions you have the better, remember that the texts are very varied and the preprocessing depends a lot on the source of our data.\n",
        "\n",
        "To apply each of the functions you created and pre-process the dataset, you must use the `normalize_corpus()` function of the `text_normalizer.py` script. In this method each of the functions you wrote is called, in fact you must enable or disable what you consider necessary (at this point we leave it to your free choice, for example, you can lemmatize or apply stemming or directly not apply any of the two and so on with the rest, but that is your choice), this function simply groups the previous ones for a more simplified use."
      ]
    },
    {
      "cell_type": "code",
      "execution_count": 32,
      "metadata": {
        "id": "H4rI96sr_0KN"
      },
      "outputs": [],
      "source": [
        "stop_words = nltk.corpus.stopwords.words(\"english\")"
      ]
    },
    {
      "cell_type": "code",
      "execution_count": 33,
      "metadata": {
        "id": "rJtdCt9d_0KN"
      },
      "outputs": [],
      "source": [
        "norm_train_reviews = text_normalizer.normalize_corpus(X_train, stopwords=stop_words)\n",
        "norm_test_reviews = text_normalizer.normalize_corpus(X_test, stopwords=stop_words)"
      ]
    },
    {
      "cell_type": "code",
      "source": [
        "import pickle\n",
        "\n",
        "with open(\"./norm_train_reviews_total.pkl\", \"wb\") as f:\n",
        "  pickle.dump(norm_train_reviews, f)\n",
        "with open(\"./norm_test_reviews_total.pkl\", \"wb\") as f:\n",
        "  pickle.dump(norm_test_reviews, f)"
      ],
      "metadata": {
        "id": "epwUMQFedGpA"
      },
      "execution_count": 34,
      "outputs": []
    },
    {
      "cell_type": "code",
      "source": [
        "print(IN_COLAB)\n",
        "print(len(norm_train_reviews))\n",
        "print(len(norm_test_reviews))"
      ],
      "metadata": {
        "colab": {
          "base_uri": "https://localhost:8080/"
        },
        "id": "knrmKqBAOIgN",
        "outputId": "2a47c7c0-d933-4196-9b72-24627eff6640"
      },
      "execution_count": 13,
      "outputs": [
        {
          "output_type": "stream",
          "name": "stdout",
          "text": [
            "True\n",
            "25000\n",
            "12500\n"
          ]
        }
      ]
    },
    {
      "cell_type": "markdown",
      "metadata": {
        "id": "uVKvNzkw_0KO"
      },
      "source": [
        "**(\\*) Functions will be checked using unit tests.**"
      ]
    },
    {
      "cell_type": "markdown",
      "metadata": {
        "id": "ilBNdrN1_0KP"
      },
      "source": [
        "---\n",
        "## 3. Feature Engineering\n",
        "\n",
        "You already have the pre-processed data, now you must vectorize them, because remember that the models only understand numbers. At this stage choose whether you want to vectorize with BoW or with TF-IDF. Later we will train our own embedding but for now we go with a more \"classic\" vectorization.\n"
      ]
    },
    {
      "cell_type": "code",
      "execution_count": null,
      "metadata": {
        "id": "aDAsFB-L_0KP"
      },
      "outputs": [],
      "source": [
        "# TODO Complete in this cell: Use BoW or TF-IDF to vectorize your data.\n",
        "# Remember to call the `fit()` method only on the train dataset!\n",
        "# Assign the features to the variables `train_features` and `test_features`.\n",
        "from sklearn.feature_extraction.text import CountVectorizer\n",
        "count_vectorizer = CountVectorizer(ngram_range=(1, 2))\n",
        "train_features = count_vectorizer.fit_transform(norm_train_reviews)\n",
        "test_features = count_vectorizer.transform(norm_test_reviews)"
      ]
    },
    {
      "cell_type": "code",
      "execution_count": 10,
      "metadata": {
        "id": "SxI6rdqrvHE9"
      },
      "outputs": [],
      "source": [
        "from sklearn.feature_extraction.text import TfidfVectorizer\n",
        "tfidf = TfidfVectorizer()\n",
        "#trainf = tfidf.fit_transform(norm_train_reviews)\n",
        "train_features = tfidf.fit_transform(norm_train_reviews)\n",
        "test_features = tfidf.transform(norm_test_reviews)"
      ]
    },
    {
      "cell_type": "code",
      "execution_count": null,
      "metadata": {
        "id": "81N9npERvHE-",
        "outputId": "e9e4a307-ae50-4a56-c5b6-061c71cd5ca8"
      },
      "outputs": [
        {
          "data": {
            "text/plain": [
              "(25000, 1895742)"
            ]
          },
          "execution_count": 7,
          "metadata": {},
          "output_type": "execute_result"
        }
      ],
      "source": [
        "# this is the trian_features created with CountVectorizer\n",
        "train_features.shape\n",
        "# (25000, 1962274)\n",
        "# (25000, 1965000)"
      ]
    },
    {
      "cell_type": "code",
      "execution_count": 84,
      "metadata": {
        "colab": {
          "base_uri": "https://localhost:8080/"
        },
        "id": "LbQTi_VyvHE_",
        "outputId": "5a8537f7-f53a-4b81-fe7e-f94abc4fa4fc"
      },
      "outputs": [
        {
          "output_type": "execute_result",
          "data": {
            "text/plain": [
              "(17500, 86865)"
            ]
          },
          "metadata": {},
          "execution_count": 84
        }
      ],
      "source": [
        "train_features.shape\n",
        "#(25000, 104443)"
      ]
    },
    {
      "cell_type": "markdown",
      "metadata": {
        "id": "pVEP8DA4_0KQ"
      },
      "source": [
        "## 4. Modeling and Performance Evaluation\n",
        "\n",
        "As we said at the beginning, what interests us most in this part is pre-processing. However, we must train a model, so choose a model of your choice (obviously a classification model, given the problem we are facing) and apply everything we learned. Also if you want you can try several models, the more models you use and know better!\n",
        "\n",
        "**In addition to training the model we ask you to show:**\n",
        "\n",
        "- `Precision`\n",
        "- `Recall`\n",
        "- `F1-Score`\n",
        "- `Classification Report`\n",
        "- `Confusion Matrix`\n",
        "\n",
        "**To do this you must complete the `get_performance` function of the `evaluation.py` script.**\n",
        "\n",
        "**Also, you must complete the `plot_roc` function so that it can show:**\n",
        "\n",
        "- `ROC Curve`\n",
        "- `Obtain the ROC-AUC value (later we will do a small minimum performance check with this value)`"
      ]
    },
    {
      "cell_type": "code",
      "execution_count": 18,
      "metadata": {
        "id": "0GD4Dc4mvHFB"
      },
      "outputs": [],
      "source": [
        "\n",
        "if not IN_COLAB:\n",
        "    train_features = train_features[0: 100].toarray()\n",
        "    test_features = test_features[0: 100].toarray()\n",
        "    y_train = y_train[0: 100]\n",
        "    y_test = y_test[0: 100]\n",
        "    train_features.shape\n",
        "else:\n",
        "    train_features = train_features.toarray()\n",
        "    test_features = test_features.toarray()"
      ]
    },
    {
      "cell_type": "code",
      "execution_count": 19,
      "metadata": {
        "id": "aCiCqub0_0KQ"
      },
      "outputs": [],
      "source": [
        "# TODO Complete in this cell: Create and train your own model.\n",
        "# Having the model trained, use it to make predictions on the test dataset.\n",
        "# Assign the predictions to the variable `model_predictions`, it will be used in the\n",
        "# following cell to evaluate the model performance.\n",
        "from sklearn.naive_bayes import GaussianNB\n",
        "from sklearn import svm\n",
        "from sklearn.linear_model import SGDClassifier\n",
        "#baseline_model = svm.SVC(decision_function_shape='ovo')\n",
        "#baseline_model = GaussianNB()\n",
        "#x_trian = train_features.toarray()\n",
        "baseline_model = SGDClassifier(max_iter=1000, tol=1e-3)\n",
        "baseline_model.fit(train_features, y_train)\n",
        "model_predictions = baseline_model.predict(test_features)"
      ]
    },
    {
      "cell_type": "code",
      "execution_count": 20,
      "metadata": {
        "id": "Ykz1bOKm_0KR",
        "outputId": "f64b6767-3f6a-4345-c256-10d54721f079",
        "colab": {
          "base_uri": "https://localhost:8080/"
        }
      },
      "outputs": [
        {
          "output_type": "stream",
          "name": "stdout",
          "text": [
            "Model Performance metrics:\n",
            "------------------------------\n",
            "Accuracy: 0.87392\n",
            "Precision: 0.8739630719695805\n",
            "Recall: 0.87392\n",
            "F1 Score: 0.8739141252739774\n",
            "\n",
            "Model Classification report:\n",
            "------------------------------\n",
            "              precision    recall  f1-score   support\n",
            "\n",
            "           0       0.88      0.87      0.87      6233\n",
            "           1       0.87      0.88      0.87      6267\n",
            "\n",
            "    accuracy                           0.87     12500\n",
            "   macro avg       0.87      0.87      0.87     12500\n",
            "weighted avg       0.87      0.87      0.87     12500\n",
            "\n",
            "\n",
            "Prediction Confusion Matrix:\n",
            "------------------------------\n",
            "      0     1\n",
            "0  5410   823\n",
            "1   753  5514\n"
          ]
        }
      ],
      "source": [
        "accuracy, precision, recall, f1_score = evaluation.get_performance(\n",
        "    model_predictions, y_test\n",
        ")"
      ]
    },
    {
      "cell_type": "code",
      "execution_count": 21,
      "metadata": {
        "colab": {
          "base_uri": "https://localhost:8080/",
          "height": 287
        },
        "id": "1mYB5QcbvHFE",
        "outputId": "b1dd76cd-1523-4ffe-be85-cc13fb4cca5c"
      },
      "outputs": [
        {
          "output_type": "error",
          "ename": "AttributeError",
          "evalue": "probability estimates are not available for loss='hinge'",
          "traceback": [
            "\u001b[0;31m---------------------------------------------------------------------------\u001b[0m",
            "\u001b[0;31mAttributeError\u001b[0m                            Traceback (most recent call last)",
            "\u001b[0;32m<ipython-input-21-dcbde6784cb0>\u001b[0m in \u001b[0;36m<cell line: 1>\u001b[0;34m()\u001b[0m\n\u001b[0;32m----> 1\u001b[0;31m \u001b[0mevaluation\u001b[0m\u001b[0;34m.\u001b[0m\u001b[0mplot_roc\u001b[0m\u001b[0;34m(\u001b[0m\u001b[0mbaseline_model\u001b[0m\u001b[0;34m,\u001b[0m \u001b[0my_test\u001b[0m\u001b[0;34m,\u001b[0m \u001b[0mtest_features\u001b[0m\u001b[0;34m)\u001b[0m\u001b[0;34m\u001b[0m\u001b[0;34m\u001b[0m\u001b[0m\n\u001b[0m",
            "\u001b[0;32m/content/drive/MyDrive/sprint5/src/evaluation.py\u001b[0m in \u001b[0;36mplot_roc\u001b[0;34m(model, y_test, features)\u001b[0m\n\u001b[1;32m     91\u001b[0m     \u001b[0my_test\u001b[0m \u001b[0;34m=\u001b[0m \u001b[0mlabel_binarize\u001b[0m\u001b[0;34m(\u001b[0m\u001b[0my_test\u001b[0m\u001b[0;34m,\u001b[0m \u001b[0mclasses\u001b[0m\u001b[0;34m=\u001b[0m\u001b[0mclass_labels\u001b[0m\u001b[0;34m)\u001b[0m\u001b[0;34m\u001b[0m\u001b[0;34m\u001b[0m\u001b[0m\n\u001b[1;32m     92\u001b[0m \u001b[0;34m\u001b[0m\u001b[0m\n\u001b[0;32m---> 93\u001b[0;31m     \u001b[0mprob\u001b[0m \u001b[0;34m=\u001b[0m \u001b[0mmodel\u001b[0m\u001b[0;34m.\u001b[0m\u001b[0mpredict_proba\u001b[0m\u001b[0;34m(\u001b[0m\u001b[0mfeatures\u001b[0m\u001b[0;34m)\u001b[0m\u001b[0;34m\u001b[0m\u001b[0;34m\u001b[0m\u001b[0m\n\u001b[0m\u001b[1;32m     94\u001b[0m     \u001b[0my_score\u001b[0m \u001b[0;34m=\u001b[0m \u001b[0mprob\u001b[0m\u001b[0;34m[\u001b[0m\u001b[0;34m:\u001b[0m\u001b[0;34m,\u001b[0m \u001b[0mprob\u001b[0m\u001b[0;34m.\u001b[0m\u001b[0mshape\u001b[0m\u001b[0;34m[\u001b[0m\u001b[0;36m1\u001b[0m\u001b[0;34m]\u001b[0m \u001b[0;34m-\u001b[0m \u001b[0;36m1\u001b[0m\u001b[0;34m]\u001b[0m\u001b[0;34m\u001b[0m\u001b[0;34m\u001b[0m\u001b[0m\n\u001b[1;32m     95\u001b[0m \u001b[0;34m\u001b[0m\u001b[0m\n",
            "\u001b[0;32m/usr/local/lib/python3.10/dist-packages/sklearn/utils/_available_if.py\u001b[0m in \u001b[0;36m__get__\u001b[0;34m(self, obj, owner)\u001b[0m\n\u001b[1;32m     30\u001b[0m             \u001b[0;31m# delegate only on instances, not the classes.\u001b[0m\u001b[0;34m\u001b[0m\u001b[0;34m\u001b[0m\u001b[0m\n\u001b[1;32m     31\u001b[0m             \u001b[0;31m# this is to allow access to the docstrings.\u001b[0m\u001b[0;34m\u001b[0m\u001b[0;34m\u001b[0m\u001b[0m\n\u001b[0;32m---> 32\u001b[0;31m             \u001b[0;32mif\u001b[0m \u001b[0;32mnot\u001b[0m \u001b[0mself\u001b[0m\u001b[0;34m.\u001b[0m\u001b[0mcheck\u001b[0m\u001b[0;34m(\u001b[0m\u001b[0mobj\u001b[0m\u001b[0;34m)\u001b[0m\u001b[0;34m:\u001b[0m\u001b[0;34m\u001b[0m\u001b[0;34m\u001b[0m\u001b[0m\n\u001b[0m\u001b[1;32m     33\u001b[0m                 \u001b[0;32mraise\u001b[0m \u001b[0mattr_err\u001b[0m\u001b[0;34m\u001b[0m\u001b[0;34m\u001b[0m\u001b[0m\n\u001b[1;32m     34\u001b[0m             \u001b[0mout\u001b[0m \u001b[0;34m=\u001b[0m \u001b[0mMethodType\u001b[0m\u001b[0;34m(\u001b[0m\u001b[0mself\u001b[0m\u001b[0;34m.\u001b[0m\u001b[0mfn\u001b[0m\u001b[0;34m,\u001b[0m \u001b[0mobj\u001b[0m\u001b[0;34m)\u001b[0m\u001b[0;34m\u001b[0m\u001b[0;34m\u001b[0m\u001b[0m\n",
            "\u001b[0;32m/usr/local/lib/python3.10/dist-packages/sklearn/linear_model/_stochastic_gradient.py\u001b[0m in \u001b[0;36m_check_proba\u001b[0;34m(self)\u001b[0m\n\u001b[1;32m   1233\u001b[0m         \u001b[0;31m# TODO(1.3): Remove \"log\"\u001b[0m\u001b[0;34m\u001b[0m\u001b[0;34m\u001b[0m\u001b[0m\n\u001b[1;32m   1234\u001b[0m         \u001b[0;32mif\u001b[0m \u001b[0mself\u001b[0m\u001b[0;34m.\u001b[0m\u001b[0mloss\u001b[0m \u001b[0;32mnot\u001b[0m \u001b[0;32min\u001b[0m \u001b[0;34m(\u001b[0m\u001b[0;34m\"log_loss\"\u001b[0m\u001b[0;34m,\u001b[0m \u001b[0;34m\"log\"\u001b[0m\u001b[0;34m,\u001b[0m \u001b[0;34m\"modified_huber\"\u001b[0m\u001b[0;34m)\u001b[0m\u001b[0;34m:\u001b[0m\u001b[0;34m\u001b[0m\u001b[0;34m\u001b[0m\u001b[0m\n\u001b[0;32m-> 1235\u001b[0;31m             raise AttributeError(\n\u001b[0m\u001b[1;32m   1236\u001b[0m                 \u001b[0;34m\"probability estimates are not available for loss=%r\"\u001b[0m \u001b[0;34m%\u001b[0m \u001b[0mself\u001b[0m\u001b[0;34m.\u001b[0m\u001b[0mloss\u001b[0m\u001b[0;34m\u001b[0m\u001b[0;34m\u001b[0m\u001b[0m\n\u001b[1;32m   1237\u001b[0m             )\n",
            "\u001b[0;31mAttributeError\u001b[0m: probability estimates are not available for loss='hinge'"
          ]
        }
      ],
      "source": [
        "evaluation.plot_roc(baseline_model, y_test, test_features)"
      ]
    },
    {
      "cell_type": "markdown",
      "metadata": {
        "id": "KzSOOelHvHFF"
      },
      "source": [
        "---\n",
        "\n",
        "## 5. Classifying using K-Means\n",
        "\n",
        "Let use tfidf features computed in last section as vector inputs for kmeans."
      ]
    },
    {
      "cell_type": "code",
      "execution_count": 12,
      "metadata": {
        "colab": {
          "base_uri": "https://localhost:8080/"
        },
        "id": "OC-EEBR0vHFG",
        "outputId": "7a767322-3460-4340-d34d-7d7b9fd3543a"
      },
      "outputs": [
        {
          "output_type": "stream",
          "name": "stdout",
          "text": [
            "Converged after 15 iterations\n"
          ]
        }
      ],
      "source": [
        "# TODO Complete in this cell: Train the k-means clustering model using `n_clusters=2`.\n",
        "# Having the model trained, use it to make predictions on the test dataset.\n",
        "# Assign the predictions to the variable `kmeans_predictions`, it will be used in the\n",
        "# following cell to evaluate the model performance.\n",
        "from sklearn.cluster import KMeans\n",
        "kmeans = KMeans(n_clusters=2, random_state=0, n_init=\"auto\").fit(train_features)\n",
        "\n",
        "kmeans.fit(train_features)\n",
        "print(f\"Converged after {kmeans.n_iter_} iterations\")\n",
        "kmeans_predictions = kmeans.predict(test_features)"
      ]
    },
    {
      "cell_type": "code",
      "execution_count": 13,
      "metadata": {
        "colab": {
          "base_uri": "https://localhost:8080/"
        },
        "id": "0uqTngBFvHFI",
        "outputId": "1dcacd30-e665-443e-921f-0a2e62030214"
      },
      "outputs": [
        {
          "output_type": "stream",
          "name": "stdout",
          "text": [
            "Model Performance metrics:\n",
            "------------------------------\n",
            "Accuracy: 0.57504\n",
            "Precision: 0.588720349106805\n",
            "Recall: 0.57504\n",
            "F1 Score: 0.5580486709995175\n",
            "\n",
            "Model Classification report:\n",
            "------------------------------\n",
            "              precision    recall  f1-score   support\n",
            "\n",
            "           0       0.62      0.38      0.47      6251\n",
            "           1       0.55      0.77      0.64      6249\n",
            "\n",
            "    accuracy                           0.58     12500\n",
            "   macro avg       0.59      0.58      0.56     12500\n",
            "weighted avg       0.59      0.58      0.56     12500\n",
            "\n",
            "\n",
            "Prediction Confusion Matrix:\n",
            "------------------------------\n",
            "      0     1\n",
            "0  2369  3882\n",
            "1  1430  4819\n"
          ]
        }
      ],
      "source": [
        "accuracy, precision, recall, f1_score = evaluation.get_performance(\n",
        "    [1 - el for el in kmeans_predictions], y_test\n",
        ")"
      ]
    },
    {
      "cell_type": "markdown",
      "metadata": {
        "id": "c4pZ2FDV_0KS"
      },
      "source": [
        "---\n",
        "## 6. Feature Engineering with Custom Word Embedding\n",
        "\n",
        "### Tokenize reviews and train your own Word Embedding\n",
        "\n",
        "You are going to have to train your own word embedding, for this we are going to use the __gensim__ library. The only requirement we ask of you is that the $vector\\_size=100$.\n",
        "\n",
        "[Here](https://radimrehurek.com/gensim/models/word2vec.html) you can read Gensim's Word2Vec documentation so you can train your own embedding, using the review data as a corpus.\n",
        "\n",
        "As a previous step to training your word embedding you must tokenize the corpus, this may take a bit depending on the size of the dataset and the tokenizer we use, if you want you can try the NLTK tokenizer called `ToktokTokenizer`, which turns out to be a little faster (we hope that this recommendation does not bias your work, try and use the ones you want)"
      ]
    },
    {
      "cell_type": "code",
      "execution_count": null,
      "metadata": {
        "id": "X53QFWRlvHFN"
      },
      "outputs": [],
      "source": [
        "#norm_train_reviews = norm_train_reviews\n",
        "#norm_test_reviews = norm_test_reviews"
      ]
    },
    {
      "cell_type": "code",
      "execution_count": 35,
      "metadata": {
        "id": "Nhx6o1pJ_0KS"
      },
      "outputs": [],
      "source": [
        "# TODO Complete in this cell: Tokenize your text corpus and use them to train\n",
        "# a Word2Vec model.\n",
        "from nltk.tokenize import ToktokTokenizer\n",
        "from nltk import bigrams\n",
        "from nltk.collocations import BigramAssocMeasures\n",
        "from nltk.collocations import BigramCollocationFinder\n",
        "# TODO: Create and store here the tokenized train and test data.\n",
        "\n",
        "bigramas = False\n",
        "\n",
        "## train tokenize\n",
        "tokens = [ToktokTokenizer().tokenize(train_review) for train_review in norm_train_reviews]\n",
        "if bigramas:\n",
        "    new_tokens = []\n",
        "\n",
        "    for token in tokens:\n",
        "        bigram_measure = BigramAssocMeasures()\n",
        "        finder = BigramCollocationFinder.from_words(token)\n",
        "        finder.apply_freq_filter(3)\n",
        "        matches = finder.nbest(bigram_measure.raw_freq, 100)\n",
        "        #print(f'{mach}')\n",
        "        new_token = token + [\" \".join(mat) for mat in matches]\n",
        "        #print(new_token)\n",
        "        new_tokens.append(new_token)\n",
        "\n",
        "    tokens = new_tokens\n",
        "tokenized_train = tokens\n",
        "\n",
        "## test\n",
        "tokens = [ToktokTokenizer().tokenize(test_review) for test_review in norm_test_reviews]\n",
        "if bigramas:\n",
        "    new_tokens = []\n",
        "    for token in tokens:\n",
        "        bigram_measure = BigramAssocMeasures()\n",
        "        finder = BigramCollocationFinder.from_words(token)\n",
        "        finder.apply_freq_filter(3)\n",
        "        matches = finder.nbest(bigram_measure.raw_freq, 100)\n",
        "        #print(f'{mach}')\n",
        "        new_token = token + [\" \".join(mat) for mat in matches]\n",
        "        #print(new_token)\n",
        "        new_tokens.append(new_token)\n",
        "\n",
        "    tokens = new_tokens\n",
        "tokenized_test = tokens\n",
        "\n",
        "\n",
        "## test tokenize\n",
        "\"\"\"\n",
        "tokens = list(set(ToktokTokenizer().tokenize(\" \".join(norm_test_reviews))))\n",
        "bigram_measure = BigramAssocMeasures()\n",
        "finder = BigramCollocationFinder.from_words(tokens)\n",
        "finder.apply_freq_filter(4)\n",
        "matches = finder.nbest(bigram_measure.raw_freq, 200)\n",
        "\n",
        "tokenized_test = list(set(tokens + [\" \".join(match) for match in matches]))\n",
        "\"\"\"\n",
        "from gensim.test.utils import common_texts\n",
        "from gensim.models import Word2Vec\n",
        "# TODO: Train your Word2Vec model and assign it to `model_w2v`.\n",
        "# The output model vector size (w2v_vector_size) is set by default to 100,\n",
        "# you can change it if you want.\n"
      ]
    },
    {
      "cell_type": "code",
      "source": [
        "w2v_vector_size = 100\n",
        "model_w2v = Word2Vec(tokenized_train, vector_size=100, window=20, negative=50, min_count=1, workers=4)"
      ],
      "metadata": {
        "id": "3m_jQB-JhTGU"
      },
      "execution_count": 36,
      "outputs": []
    },
    {
      "cell_type": "code",
      "execution_count": null,
      "metadata": {
        "id": "ks8YOzylvHFU"
      },
      "outputs": [],
      "source": [
        "#doc = [model_w2v.wv[word] for word in tokenized_test[0]]\n",
        "from sklearn.naive_bayes import GaussianNB\n",
        "x_train = [model_w2v.wv[token] for token in tokenized_train[0:10]]\n",
        "baseline_model = GaussianNB()\n",
        "#x_trian = train_features.toarray()\n",
        "#baseline_model.fit(x_train, np.array(y_train[0:10]).reshape(-1,1))"
      ]
    },
    {
      "cell_type": "markdown",
      "metadata": {
        "id": "1yybEN7P_0KS"
      },
      "source": [
        "### Generate averaged word vector features\n",
        "\n",
        "Once the embedding has been trained, we must use it. Remember that embedding will convert each word you pass to it into a vector of a given dimension (in our case $vector\\_size=100$). So in order to obtain a vector for each review, you must average the vectors of all the words that are part of the same review.\n",
        "\n",
        "The function must have the following form:\n",
        "* `vectorizer(corpus, model, num_features=100)`\n",
        "\n",
        "\n",
        "Where:\n",
        "* `corpus:` corresponds to the entire dataset, in this way we obtain an average vector for each review, with a single call to the function.\n",
        "* `model:` is your trained model.\n",
        "* `num_features:` the dimension of the output vector of your embedding (remember that in our case we set this value to 100).\n",
        "\n",
        "To do this you must complete the `vectorize` function of the `word2vec.py` module."
      ]
    },
    {
      "cell_type": "code",
      "execution_count": 37,
      "metadata": {
        "id": "DN7oCLhd_0KT"
      },
      "outputs": [],
      "source": [
        "# TODO: Make sure you have completed the `vectorizer()` function from\n",
        "# word2vec.py module.\n",
        "# You don't need to change this code, just make it run without errors.\n",
        "w2v_train_features = word2vec.vectorizer(\n",
        "    corpus=tokenized_train, model=model_w2v, num_features=w2v_vector_size\n",
        ")\n",
        "w2v_test_features = word2vec.vectorizer(\n",
        "    corpus=tokenized_test, model=model_w2v, num_features=w2v_vector_size\n",
        ")\n"
      ]
    },
    {
      "cell_type": "code",
      "source": [
        "with open('./w2v_train_features_total.pkl','wb') as f:\n",
        "  pickle.dump(w2v_train_features, f)\n",
        "\n",
        "with open('./w2v_test_features_total.pkl', 'wb') as f:\n",
        "  pickle.dump(w2v_test_features, f)"
      ],
      "metadata": {
        "id": "-tQyLve9md1n"
      },
      "execution_count": 38,
      "outputs": []
    },
    {
      "cell_type": "markdown",
      "metadata": {
        "id": "Ekf7XrPd_0KU"
      },
      "source": [
        "### Modeling\n",
        "\n",
        "Finally train a new model, it can be the same one you used before and compare the results you got using BoW/TF-IDF and Word2Vec.\n",
        "\n",
        "In addition to training the model we ask you to show:\n",
        "\n",
        "* `Accuracy`\n",
        "* `Recall`\n",
        "* `F1-Score`\n",
        "* `Classification Report`\n",
        "* `Confusion Matrix`\n",
        "* `ROC Curve`\n",
        "* `Obtain the ROC-AUC value (later we will do a small minimum performance check with this value)`"
      ]
    },
    {
      "cell_type": "code",
      "execution_count": 39,
      "metadata": {
        "id": "mxYRc-_8_0KU"
      },
      "outputs": [],
      "source": [
        "# TODO Complete in this cell: Train and choose the best model for the task.\n",
        "# Assign this model to the `best_model` variable.\n",
        "from sklearn.linear_model import SGDClassifier\n",
        "from sklearn import svm\n",
        "#baseline_model = svm.SVC(decision_function_shape='ovo')\n",
        "\n",
        "\n",
        "#embeddings_model = SGDClassifier(max_iter=1000, tol=1e-3, loss='hinge').fit(w2v_train_features, y_train)\n",
        "embeddings_model = svm.SVC(decision_function_shape='ovo', probability=True).fit(w2v_train_features, y_train)\n",
        "y_predic = embeddings_model.predict(w2v_test_features)\n"
      ]
    },
    {
      "cell_type": "code",
      "source": [
        "with open('./embeddings_model_svm.pkl', 'wb') as mo:\n",
        "  pickle.dump(embeddings_model, mo)"
      ],
      "metadata": {
        "id": "zI-dZX2qnXdU"
      },
      "execution_count": 40,
      "outputs": []
    },
    {
      "cell_type": "code",
      "execution_count": 41,
      "metadata": {
        "id": "aeFGjvLW_0KU",
        "outputId": "36c8bb47-cc4c-4fa1-e210-013f0d7cc6ba",
        "colab": {
          "base_uri": "https://localhost:8080/"
        }
      },
      "outputs": [
        {
          "output_type": "stream",
          "name": "stdout",
          "text": [
            "Model Performance metrics:\n",
            "------------------------------\n",
            "Accuracy: 0.8624\n",
            "Precision: 0.8624751628497686\n",
            "Recall: 0.8624\n",
            "F1 Score: 0.8623928664461966\n",
            "\n",
            "Model Classification report:\n",
            "------------------------------\n",
            "              precision    recall  f1-score   support\n",
            "\n",
            "           0       0.87      0.86      0.86     12500\n",
            "           1       0.86      0.87      0.86     12500\n",
            "\n",
            "    accuracy                           0.86     25000\n",
            "   macro avg       0.86      0.86      0.86     25000\n",
            "weighted avg       0.86      0.86      0.86     25000\n",
            "\n",
            "\n",
            "Prediction Confusion Matrix:\n",
            "------------------------------\n",
            "       0      1\n",
            "0  10690   1810\n",
            "1   1630  10870\n"
          ]
        }
      ],
      "source": [
        "# TODO: Use the `get_performance()` function from `evaluation.py` module to show\n",
        "# the model performance.\n",
        "accuracy, precision, recall, f1_score = evaluation.get_performance(\n",
        "    y_predic, y_test\n",
        ")\n"
      ]
    },
    {
      "cell_type": "code",
      "execution_count": 42,
      "metadata": {
        "id": "pes1qmmJ_0KU",
        "outputId": "1520a06c-9ad9-4b19-9973-45d02c29455d",
        "scrolled": true,
        "colab": {
          "base_uri": "https://localhost:8080/",
          "height": 504
        }
      },
      "outputs": [
        {
          "output_type": "display_data",
          "data": {
            "text/plain": [
              "<Figure size 1000x500 with 1 Axes>"
            ],
            "image/png": "[encoded data removed]"
          },
          "metadata": {}
        },
        {
          "output_type": "execute_result",
          "data": {
            "text/plain": [
              "0.9371826464000002"
            ]
          },
          "metadata": {},
          "execution_count": 42
        }
      ],
      "source": [
        "# TODO: Use the `plot_roc()` function from `evaluation.py` module to show\n",
        "# the model ROC curve.\n",
        "evaluation.plot_roc(embeddings_model, y_test, w2v_test_features)"
      ]
    },
    {
      "cell_type": "markdown",
      "metadata": {
        "id": "8KZdYlRs_0KV"
      },
      "source": [
        "## 7. Predict data\n",
        "\n",
        "- Take your best model\n",
        "- Take `test data` (i.e. the dataset after doing the preprocessing and feature engineering part)\n",
        "- Run the data through your model and save the predictions on the `positive` column in the `test` DataFrame (yeah that we've loaded at the very beginning of this notebook).\n",
        "- You will have to use that model to fill values in the positive column using the model predictions\n",
        "- Save the modified version of the DataFrame with the name (`dataset/movies_review_predict_aai.csv`) and don't forget to submit it alongside the rest of this sprint project code.\n",
        "\n",
        "Let's say your best model is called `logistic_word2vec`, then your code should be exactly this:\n",
        "\n",
        "```python\n",
        "    from src import config\n",
        "    from pathlib import Path\n",
        "    DATASET_TEST_PREDICT = str(Path(config.DATASET_ROOT_PATH) / \"movies_review_predict_aai.csv\")\n",
        "    test_preds = logistic_word2vec.predict_proba(w2v_test_features)[:, 1]\n",
        "    test[\"positive\"] = test_preds\n",
        "    test.to_csv(DATASET_TEST_PREDICT, index=False)\n",
        "```"
      ]
    },
    {
      "cell_type": "code",
      "execution_count": 46,
      "metadata": {
        "colab": {
          "base_uri": "https://localhost:8080/"
        },
        "id": "3Y-n1bR9vHFb",
        "outputId": "e9a00e86-ac3b-4ca8-c725-7ae73b9d2129"
      },
      "outputs": [
        {
          "output_type": "stream",
          "name": "stdout",
          "text": [
            "/content/drive/MyDrive/sprint5/dataset/movies_review_predict_aai.csv\n"
          ]
        }
      ],
      "source": [
        "from src import config\n",
        "from pathlib import Path\n",
        "\n",
        "DATASET_TEST_PREDICT = str(Path(config.DATASET_ROOT_PATH) / 'movies_review_predict_aai.csv')\n",
        "print(DATASET_TEST_PREDICT)\n",
        "test_preds = embeddings_model.predict_proba(w2v_test_features)[:, 1]\n",
        "test['positive'] = test_preds\n",
        "test.to_csv(DATASET_TEST_PREDICT, index=False)\n"
      ]
    },
    {
      "cell_type": "markdown",
      "metadata": {
        "id": "gkopeTCj_0KV"
      },
      "source": [
        "---\n",
        "### OPTIONAL:\n",
        "\n",
        "In our case, we train a word embedding from scratch, which is very good at an educational level, but when applying it to a real problem, we need a lot of data (which is not the case with our problem). Therefore, we invite you to investigate and use one of the `pre-trained Word2Vec models`.\n",
        "\n",
        "If you look for the `Pretrained models` section in this [link](https://radimrehurek.com/gensim/models/word2vec.html), you will find information about the models that Gensim owns."
      ]
    },
    {
      "cell_type": "code",
      "execution_count": null,
      "metadata": {
        "id": "SNuKhAenvHFd"
      },
      "outputs": [],
      "source": []
    }
  ],
  "metadata": {
    "anaconda-cloud": {},
    "celltoolbar": "Tags",
    "colab": {
      "provenance": []
    },
    "kernelspec": {
      "display_name": "Python 3 (ipykernel)",
      "language": "python",
      "name": "python3"
    },
    "language_info": {
      "codemirror_mode": {
        "name": "ipython",
        "version": 3
      },
      "file_extension": ".py",
      "mimetype": "text/x-python",
      "name": "python",
      "nbconvert_exporter": "python",
      "pygments_lexer": "ipython3",
      "version": "3.10.12"
    }
  },
  "nbformat": 4,
  "nbformat_minor": 0
}